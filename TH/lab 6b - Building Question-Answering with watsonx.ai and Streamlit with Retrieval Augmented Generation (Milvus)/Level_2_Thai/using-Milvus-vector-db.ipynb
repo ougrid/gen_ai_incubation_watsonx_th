{
 "cells": [
  {
   "cell_type": "code",
   "execution_count": 1,
   "id": "f56290bc",
   "metadata": {},
   "outputs": [],
   "source": [
    "from sentence_transformers import SentenceTransformer\n",
    "from pymilvus import connections,utility,Collection,CollectionSchema, FieldSchema,DataType\n",
    "from langchain.vectorstores import Milvus\n",
    "from langchain.embeddings import HuggingFaceEmbeddings, SentenceTransformerEmbeddings\n",
    "from sentence_transformers import models\n",
    "\n",
    "from sklearn.manifold import TSNE\n",
    "from sklearn.neighbors import NearestNeighbors\n",
    "from typing import Literal, Optional, Any\n",
    "import numpy as np\n",
    "import matplotlib.pyplot as plt"
   ]
  },
  {
   "cell_type": "code",
   "execution_count": 2,
   "id": "f9c2adde",
   "metadata": {},
   "outputs": [],
   "source": [
    "def get_model(model_name='airesearch/wangchanberta-base-att-spm-uncased', max_seq_length=768, condition=True):\n",
    "    if condition:\n",
    "        # model_name = 'airesearch/wangchanberta-base-att-spm-uncased'\n",
    "        # model_name = \"hkunlp/instructor-large\"\n",
    "        word_embedding_model = models.Transformer(model_name, max_seq_length=max_seq_length)\n",
    "        pooling_model = models.Pooling(word_embedding_model.get_word_embedding_dimension(),pooling_mode='cls') # We use a [CLS] token as representation\n",
    "        model = SentenceTransformer(modules=[word_embedding_model, pooling_model])\n",
    "    return model"
   ]
  },
  {
   "cell_type": "code",
   "execution_count": 3,
   "id": "a5627470",
   "metadata": {},
   "outputs": [],
   "source": [
    "connections.connect(host=\"localhost\",port=\"19530\")\n",
    "\n",
    "# model = get_model(model_name=\"intfloat/multilingual-e5-large\", max_seq_length=768)\n",
    "model = get_model(model_name='airesearch/wangchanberta-base-att-spm-uncased', max_seq_length=768)\n",
    "# model = get_model(model_name=\"sentence-transformers/paraphrase-multilingual-mpnet-base-v2\", max_seq_length=768)\n",
    "\n"
   ]
  },
  {
   "cell_type": "code",
   "execution_count": 4,
   "id": "aade5ee4",
   "metadata": {},
   "outputs": [],
   "source": [
    "## Define the fields that would go into the schema \n",
    "item_id = FieldSchema(\n",
    "  name=\"id\",\n",
    "  dtype=DataType.INT64,\n",
    "  is_primary=True,\n",
    "  auto_id=True\n",
    ")\n",
    "\n",
    "## you need to provide max_length\n",
    "text = FieldSchema(\n",
    "  name=\"text\",\n",
    "  dtype=DataType.VARCHAR,\n",
    "  max_length= 50000\n",
    "\n",
    ")\n",
    "\n",
    "## one float_vector field mandatory ?\n",
    "embeddings = FieldSchema(\n",
    "  name=\"embeddings\",\n",
    "  dtype=DataType.FLOAT_VECTOR,\n",
    "  dim=768\n",
    ")\n",
    "## define collection schema \n",
    "schema = CollectionSchema(\n",
    "  fields=[item_id, text, embeddings],\n",
    "  description=\"Search clinical trial docs\",\n",
    "  enable_dynamic_field=True\n",
    ")\n",
    "\n",
    "## define the collection\n",
    "collection = Collection(\n",
    "    name=\"leave_policy_th\",\n",
    "    schema=schema,\n",
    "    using='default'\n",
    "    )\n"
   ]
  },
  {
   "cell_type": "code",
   "execution_count": 5,
   "id": "14b575bf",
   "metadata": {},
   "outputs": [],
   "source": [
    "def split_text_with_overlap(text, chunk_size, overlap_size):\n",
    "    chunks = []\n",
    "    start_index = 0\n",
    "\n",
    "    while start_index < len(text):\n",
    "        end_index = start_index + chunk_size\n",
    "        chunk = text[start_index:end_index]\n",
    "        chunks.append(chunk)\n",
    "        start_index += (chunk_size - overlap_size)\n",
    "\n",
    "    return chunks\n",
    "\n",
    "# english = open(\"assets/text/leave_policy_EN.txt\", encoding=\"utf8\").read()\n",
    "thai = open(\"assets/text/leave_policy_TH.txt\", encoding=\"utf8\").read()\n",
    "\n",
    "texts = split_text_with_overlap(thai, 600, 60)"
   ]
  },
  {
   "cell_type": "code",
   "execution_count": 6,
   "id": "912abfa3",
   "metadata": {},
   "outputs": [
    {
     "name": "stdout",
     "output_type": "stream",
     "text": [
      "no of embeddings  20\n",
      "dim of each embedding  768\n"
     ]
    }
   ],
   "source": [
    "embeds = [list(embed) for embed in model.encode(texts)]\n",
    "print(\"no of embeddings \", len(embeds))  ## no of embeddings \n",
    "print(\"dim of each embedding \", len(embeds[0])) ## dim of each embedding"
   ]
  },
  {
   "cell_type": "code",
   "execution_count": 7,
   "id": "1605d091",
   "metadata": {},
   "outputs": [
    {
     "data": {
      "text/plain": [
       "Status(code=0, message=)"
      ]
     },
     "execution_count": 7,
     "metadata": {},
     "output_type": "execute_result"
    }
   ],
   "source": [
    "collection.insert([texts,embeds])\n",
    "collection.create_index(field_name=\"embeddings\",\\\n",
    "                        index_params={\"metric_type\":\"IP\",\"index_type\":\"IVF_FLAT\",\"params\":{\"nlist\":16384}})\n",
    "\n"
   ]
  },
  {
   "cell_type": "code",
   "execution_count": 8,
   "id": "98d81238",
   "metadata": {},
   "outputs": [
    {
     "name": "stdout",
     "output_type": "stream",
     "text": [
      "no. of retrieved docs 4\n",
      "doc 1: \n",
      " ่ได้รับ\n",
      "พนักงานต้องยื่นคำร้องขอลาพักร้อนที่ได้รับล่วงหน้า 15 วัน หลังจากยื่นคำร้องแล้ว การแจ้งเตือนจะถูกส่งไปยังผู้จัดการที่รับผิดชอบโดยตรง เมื่อการลาได้รับการอนุมัติ การแจ้งเตือนจะถูกส่งไปยังพนักงานและแผนกทรัพยากรบุคคล ยอดคงเหลือหลังจากการหักลาจะได้รับการปรับปรุงในระบบ HRMS\n",
      "\n",
      "ลาคลอด\n",
      "• พนักงานหญิงที่ได้รับการยืนยันสถานะทั้งหมดจะมีสิทธิ์ได้รับการลาคลอดตามพระราชบัญญัติสวัสดิการการคลอดปี 2016 พร้อมกับค่าจ้างเต็มจำนวนสำหรับระยะเวลา 26 สัปดาห์ติดต่อกัน (ไม่รวมวันหยุดนักขัตฤกษ์) สำหรับการตั้งครรภ์แต่ละครั้งสูงสุด 2 ครั้ง\n",
      "• การลาที่ใช้เพื่อการรักษาก่อนคลอดในช่วง 7 เดือนแรกของการตั้งครรภ์จะถือว่าเป็นกา \n",
      "\n",
      "doc 2: \n",
      " ่ได้รับ\n",
      "พนักงานต้องยื่นคำร้องขอลาพักร้อนที่ได้รับล่วงหน้า 15 วัน หลังจากยื่นคำร้องแล้ว การแจ้งเตือนจะถูกส่งไปยังผู้จัดการที่รับผิดชอบโดยตรง เมื่อการลาได้รับการอนุมัติ การแจ้งเตือนจะถูกส่งไปยังพนักงานและแผนกทรัพยากรบุคคล ยอดคงเหลือหลังจากการหักลาจะได้รับการปรับปรุงในระบบ HRMS\n",
      "\n",
      "ลาคลอด\n",
      "• พนักงานหญิงที่ได้รับการยืนยันสถานะทั้งหมดจะมีสิทธิ์ได้รับการลาคลอดตามพระราชบัญญัติสวัสดิการการคลอดปี 2016 พร้อมกับค่าจ้างเต็มจำนวนสำหรับระยะเวลา 26 สัปดาห์ติดต่อกัน (ไม่รวมวันหยุดนักขัตฤกษ์) สำหรับการตั้งครรภ์แต่ละครั้งสูงสุด 2 ครั้ง\n",
      "• การลาที่ใช้เพื่อการรักษาก่อนคลอดในช่วง 7 เดือนแรกของการตั้งครรภ์จะถือว่าเป็นกา \n",
      "\n",
      "doc 3: \n",
      " ่ได้รับ\n",
      "พนักงานต้องยื่นคำร้องขอลาพักร้อนที่ได้รับล่วงหน้า 15 วัน หลังจากยื่นคำร้องแล้ว การแจ้งเตือนจะถูกส่งไปยังผู้จัดการที่รับผิดชอบโดยตรง เมื่อการลาได้รับการอนุมัติ การแจ้งเตือนจะถูกส่งไปยังพนักงานและแผนกทรัพยากรบุคคล ยอดคงเหลือหลังจากการหักลาจะได้รับการปรับปรุงในระบบ HRMS\n",
      "\n",
      "ลาคลอด\n",
      "• พนักงานหญิงที่ได้รับการยืนยันสถานะทั้งหมดจะมีสิทธิ์ได้รับการลาคลอดตามพระราชบัญญัติสวัสดิการการคลอดปี 2016 พร้อมกับค่าจ้างเต็มจำนวนสำหรับระยะเวลา 26 สัปดาห์ติดต่อกัน (ไม่รวมวันหยุดนักขัตฤกษ์) สำหรับการตั้งครรภ์แต่ละครั้งสูงสุด 2 ครั้ง\n",
      "• การลาที่ใช้เพื่อการรักษาก่อนคลอดในช่วง 7 เดือนแรกของการตั้งครรภ์จะถือว่าเป็นกา \n",
      "\n",
      "doc 4: \n",
      " ู่ วันลาจะถูกเพิ่มเติมในช่วงต้นปี อย่างไรก็ตามสิทธิ์จะขึ้นอยู่กับจำนวนเดือนที่ทำงาน สำหรับทุกเดือนที่ทำงานเสร็จสิ้น 1.75 ของการลาพิเศษจะถูกเพิ่มเข้าในบัญชีของพนักงาน\n",
      "• การลาพิเศษสามารถนำไปสู้ปีถัดไปได้สูงสุด 9 วัน อย่างไรก็ตามสำหรับพนักงานที่มีอยู่ที่ให้บริการมากกว่า 5 ปี สูงสุดสามารถนำไปสู้ได้ 45 วัน การลาเกิน 45 วันจะหมดอายุโดยอัตโนมัติ\n",
      "• พนักงานที่ลาออกจากหน้าที่ของพวกเขา สิทธิ์การลาพิเศษจะคำนวณตามสัดส่วนจนถึงวันทำงานสุดท้าย\n",
      "• สำหรับการคำนวณ LTA พนักงานต้องใช้การลา 5 วันเป็นจำนวนบังคับ (รวมถึงวันหยุด)\n",
      "\n",
      "กระบวนการสำหรับการลาพักร้อนที่ได้รับ\n",
      "พนักงานต้องยื่นคำร้องขอลาพักร้อนที่ได้รับล่วงหน้า 15 \n",
      "\n"
     ]
    }
   ],
   "source": [
    "# พนักงานปกติจะได้รับวันลากี่วัน แล้วใช่ยังไง\n",
    "# ถ้าหากว่าฉันจะต้องการลา พักร้อนต้องทำอะไรบ้าง\n",
    "# ถ้าปีนี้ผมลาไม่ครบ ผมจะเอาวันลาไปใช่ปีหน้าได้ไหม แล้วกี่วัน\n",
    "# ลาคลอดได้รับเงินไหม แล้วลาได้นานแค่ไหน\n",
    "\n",
    "query = \"ลาคลอดได้รับเงินไหม แล้วลาได้นานแค่ไหน\"\n",
    "query_encode = [list(i) for i in model.encode([query])]\n",
    "collection = Collection('leave_policy_th')\n",
    "collection.load()\n",
    "documents = collection.search(data=query_encode, anns_field=\"embeddings\", param={\"metric\":\"IP\",\"offset\":0},\n",
    "                  output_fields=[\"text\"], limit=4)\n",
    "\n",
    "print(\"no. of retrieved docs\", len(documents[0]))\n",
    "\n",
    "i = 1\n",
    "for doc in documents[0]:\n",
    "    # print(doc[0].text)\n",
    "    print(f'doc {i}: \\n', doc.text, \"\\n\")\n",
    "    i += 1\n"
   ]
  },
  {
   "cell_type": "code",
   "execution_count": 9,
   "id": "10d41294",
   "metadata": {},
   "outputs": [],
   "source": [
    "## drop the collection, everything is lost.\n",
    "utility.drop_collection(\"leave_policy_th\")"
   ]
  },
  {
   "cell_type": "markdown",
   "id": "072aea10",
   "metadata": {},
   "source": [
    "## Visualizing distance"
   ]
  },
  {
   "cell_type": "code",
   "execution_count": 10,
   "id": "599a0feb",
   "metadata": {},
   "outputs": [],
   "source": [
    "def visualize_embeddings(embeddings_2d: np.ndarray, \n",
    "                         question: Optional[bool] = False, \n",
    "                         neighbors: Optional[np.ndarray] = None) -> None:\n",
    "    \"\"\"\n",
    "    Visualize 384-dimensional embeddings in 2D using t-SNE, label each data point with its index,\n",
    "    and optionally plot a question data point as a red dot with the label 'q'.\n",
    "\n",
    "    Args:\n",
    "        embeddings (numpy.array): An array of shape (num_samples, 384) containing the embeddings.\n",
    "        question (numpy.array, optional): An additional 384-dimensional embedding for the question.\n",
    "                                          Default is None.\n",
    "    \"\"\"\n",
    "\n",
    "    # Scatter plot the 2D embeddings and label each data point with its index\n",
    "    plt.figure(figsize=(10, 8))\n",
    "    num_samples = embeddings_2d[:-1].shape[0]\n",
    "    if neighbors is not None:\n",
    "        for i, (x, y) in enumerate(embeddings_2d[:num_samples]):\n",
    "            if i in neighbors:\n",
    "                plt.scatter(x, y, color='purple', alpha=0.7)\n",
    "                plt.annotate(str(i), xy=(x, y), xytext=(5, 2), textcoords='offset points', color='black')\n",
    "            else:\n",
    "                plt.scatter(x, y, color='blue', alpha=0.7)\n",
    "                plt.annotate(str(i), xy=(x, y), xytext=(5, 2), textcoords='offset points', color='black')\n",
    "    else:\n",
    "        for i, (x, y) in enumerate(embeddings_2d[:num_samples]):\n",
    "            plt.scatter(x, y, color='blue', alpha=0.7)\n",
    "            plt.annotate(str(i), xy=(x, y), xytext=(5, 2), textcoords='offset points', color='black')\n",
    "        \n",
    "    # Plot the question data point if provided\n",
    "    if question:\n",
    "        x, y = embeddings_2d[-1]  # Last point corresponds to the question\n",
    "        plt.scatter(x, y, color='red', label='q')\n",
    "        plt.annotate('q', xy=(x, y), xytext=(5, 2), textcoords='offset points', color='black')\n",
    "\n",
    "    plt.title('t-SNE Visualization of 384-dimensional Embeddings')\n",
    "    plt.xlabel('Dimension 1')\n",
    "    plt.ylabel('Dimension 2')\n",
    "    plt.show()"
   ]
  },
  {
   "cell_type": "code",
   "execution_count": 11,
   "id": "6e899057",
   "metadata": {},
   "outputs": [],
   "source": [
    "# Create a t-SNE model\n",
    "tsne = TSNE(n_components=2, perplexity=5, random_state=42)\n",
    "embeddings_with_question = np.vstack([model.encode(texts), query_encode])\n",
    "embeddings_2d = tsne.fit_transform(embeddings_with_question)"
   ]
  },
  {
   "cell_type": "code",
   "execution_count": 12,
   "id": "a4f5ab3d",
   "metadata": {},
   "outputs": [
    {
     "data": {
      "text/plain": [
       "(21, 2)"
      ]
     },
     "execution_count": 12,
     "metadata": {},
     "output_type": "execute_result"
    }
   ],
   "source": [
    "embeddings_2d.shape"
   ]
  },
  {
   "cell_type": "code",
   "execution_count": 13,
   "id": "e04c3455",
   "metadata": {},
   "outputs": [
    {
     "data": {
      "image/png": "[encoded data removed]",
      "text/plain": [
       "<Figure size 1000x800 with 1 Axes>"
      ]
     },
     "metadata": {},
     "output_type": "display_data"
    }
   ],
   "source": [
    "visualize_embeddings(embeddings_2d=embeddings_2d, question=True)"
   ]
  },
  {
   "cell_type": "code",
   "execution_count": 14,
   "id": "edcee6e3",
   "metadata": {},
   "outputs": [
    {
     "name": "stdout",
     "output_type": "stream",
     "text": [
      "่ได้รับ\n",
      "พนักงานต้องยื่นคำร้องขอลาพักร้อนที่ได้รับล่วงหน้า 15 วัน หลังจากยื่นคำร้องแล้ว การแจ้งเตือนจะถูกส่งไปยังผู้จัดการที่รับผิดชอบโดยตรง เมื่อการลาได้รับการอนุมัติ การแจ้งเตือนจะถูกส่งไปยังพนักงานและแผนกทรัพยากรบุคคล ยอดคงเหลือหลังจากการหักลาจะได้รับการปรับปรุงในระบบ HRMS\n",
      "\n",
      "ลาคลอด\n",
      "• พนักงานหญิงที่ได้รับการยืนยันสถานะทั้งหมดจะมีสิทธิ์ได้รับการลาคลอดตามพระราชบัญญัติสวัสดิการการคลอดปี 2016 พร้อมกับค่าจ้างเต็มจำนวนสำหรับระยะเวลา 26 สัปดาห์ติดต่อกัน (ไม่รวมวันหยุดนักขัตฤกษ์) สำหรับการตั้งครรภ์แต่ละครั้งสูงสุด 2 ครั้ง\n",
      "• การลาที่ใช้เพื่อการรักษาก่อนคลอดในช่วง 7 เดือนแรกของการตั้งครรภ์จะถือว่าเป็นกา\n"
     ]
    }
   ],
   "source": [
    "print(texts[9])"
   ]
  },
  {
   "cell_type": "code",
   "execution_count": 15,
   "id": "c4ec038f",
   "metadata": {},
   "outputs": [
    {
     "data": {
      "text/plain": [
       "20"
      ]
     },
     "execution_count": 15,
     "metadata": {},
     "output_type": "execute_result"
    }
   ],
   "source": [
    "embeddings_2d[:-1].shape[0]"
   ]
  },
  {
   "cell_type": "markdown",
   "id": "6f1e7972",
   "metadata": {},
   "source": [
    "## Using Langchain\n",
    "you can also leverage langchain and Milvus.\n",
    "Documentation - https://python.langchain.com/docs/integrations/vectorstores/milvus"
   ]
  }
 ],
 "metadata": {
  "kernelspec": {
   "display_name": "Python 3 (ipykernel)",
   "language": "python",
   "name": "python3"
  },
  "language_info": {
   "codemirror_mode": {
    "name": "ipython",
    "version": 3
   },
   "file_extension": ".py",
   "mimetype": "text/x-python",
   "name": "python",
   "nbconvert_exporter": "python",
   "pygments_lexer": "ipython3",
   "version": "3.11.5"
  }
 },
 "nbformat": 4,
 "nbformat_minor": 5
}
