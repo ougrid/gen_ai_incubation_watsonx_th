{
 "cells": [
  {
   "attachments": {},
   "cell_type": "markdown",
   "metadata": {},
   "source": [
    "## Installation\n",
    "\n",
    "You first need to install milvus with client(pymilvus).\n",
    "Note: as pymilvus requires specific version of grpc, if your current grpc version is not compatible with pymilvus, you may need restart the kernel after installation.\n"
   ]
  },
  {
   "cell_type": "code",
   "execution_count": 1,
   "metadata": {},
   "outputs": [
    {
     "name": "stdout",
     "output_type": "stream",
     "text": [
      "Requirement already satisfied: milvus[client] in /Users/kandanai/Desktop/virtual_env_1/genai/lib/python3.11/site-packages (2.3.0)\n",
      "Requirement already satisfied: pymilvus<2.4.0,>=2.3.0b1 in /Users/kandanai/Desktop/virtual_env_1/genai/lib/python3.11/site-packages (from milvus[client]) (2.3.1)\n",
      "Requirement already satisfied: grpcio<=1.58.0,>=1.49.1 in /Users/kandanai/Desktop/virtual_env_1/genai/lib/python3.11/site-packages (from pymilvus<2.4.0,>=2.3.0b1->milvus[client]) (1.58.0)\n",
      "Requirement already satisfied: protobuf>=3.20.0 in /Users/kandanai/Desktop/virtual_env_1/genai/lib/python3.11/site-packages (from pymilvus<2.4.0,>=2.3.0b1->milvus[client]) (4.24.4)\n",
      "Requirement already satisfied: environs<=9.5.0 in /Users/kandanai/Desktop/virtual_env_1/genai/lib/python3.11/site-packages (from pymilvus<2.4.0,>=2.3.0b1->milvus[client]) (9.5.0)\n",
      "Requirement already satisfied: ujson>=2.0.0 in /Users/kandanai/Desktop/virtual_env_1/genai/lib/python3.11/site-packages (from pymilvus<2.4.0,>=2.3.0b1->milvus[client]) (5.8.0)\n",
      "Requirement already satisfied: pandas>=1.2.4 in /Users/kandanai/Desktop/virtual_env_1/genai/lib/python3.11/site-packages (from pymilvus<2.4.0,>=2.3.0b1->milvus[client]) (1.5.3)\n",
      "Requirement already satisfied: requests in /Users/kandanai/Desktop/virtual_env_1/genai/lib/python3.11/site-packages (from pymilvus<2.4.0,>=2.3.0b1->milvus[client]) (2.31.0)\n",
      "Requirement already satisfied: minio in /Users/kandanai/Desktop/virtual_env_1/genai/lib/python3.11/site-packages (from pymilvus<2.4.0,>=2.3.0b1->milvus[client]) (7.1.17)\n",
      "Requirement already satisfied: marshmallow>=3.0.0 in /Users/kandanai/Desktop/virtual_env_1/genai/lib/python3.11/site-packages (from environs<=9.5.0->pymilvus<2.4.0,>=2.3.0b1->milvus[client]) (3.20.1)\n",
      "Requirement already satisfied: python-dotenv in /Users/kandanai/Desktop/virtual_env_1/genai/lib/python3.11/site-packages (from environs<=9.5.0->pymilvus<2.4.0,>=2.3.0b1->milvus[client]) (1.0.0)\n",
      "Requirement already satisfied: python-dateutil>=2.8.1 in /Users/kandanai/Desktop/virtual_env_1/genai/lib/python3.11/site-packages (from pandas>=1.2.4->pymilvus<2.4.0,>=2.3.0b1->milvus[client]) (2.8.2)\n",
      "Requirement already satisfied: pytz>=2020.1 in /Users/kandanai/Desktop/virtual_env_1/genai/lib/python3.11/site-packages (from pandas>=1.2.4->pymilvus<2.4.0,>=2.3.0b1->milvus[client]) (2023.3.post1)\n",
      "Requirement already satisfied: numpy>=1.21.0 in /Users/kandanai/Desktop/virtual_env_1/genai/lib/python3.11/site-packages (from pandas>=1.2.4->pymilvus<2.4.0,>=2.3.0b1->milvus[client]) (1.24.2)\n",
      "Requirement already satisfied: certifi in /Users/kandanai/Desktop/virtual_env_1/genai/lib/python3.11/site-packages (from minio->pymilvus<2.4.0,>=2.3.0b1->milvus[client]) (2023.7.22)\n",
      "Requirement already satisfied: urllib3 in /Users/kandanai/Desktop/virtual_env_1/genai/lib/python3.11/site-packages (from minio->pymilvus<2.4.0,>=2.3.0b1->milvus[client]) (1.26.11)\n",
      "Requirement already satisfied: charset-normalizer<4,>=2 in /Users/kandanai/Desktop/virtual_env_1/genai/lib/python3.11/site-packages (from requests->pymilvus<2.4.0,>=2.3.0b1->milvus[client]) (3.3.0)\n",
      "Requirement already satisfied: idna<4,>=2.5 in /Users/kandanai/Desktop/virtual_env_1/genai/lib/python3.11/site-packages (from requests->pymilvus<2.4.0,>=2.3.0b1->milvus[client]) (3.4)\n",
      "Requirement already satisfied: packaging>=17.0 in /Users/kandanai/Desktop/virtual_env_1/genai/lib/python3.11/site-packages (from marshmallow>=3.0.0->environs<=9.5.0->pymilvus<2.4.0,>=2.3.0b1->milvus[client]) (23.2)\n",
      "Requirement already satisfied: six>=1.5 in /Users/kandanai/Desktop/virtual_env_1/genai/lib/python3.11/site-packages (from python-dateutil>=2.8.1->pandas>=1.2.4->pymilvus<2.4.0,>=2.3.0b1->milvus[client]) (1.16.0)\n",
      "\n",
      "\u001b[1m[\u001b[0m\u001b[34;49mnotice\u001b[0m\u001b[1;39;49m]\u001b[0m\u001b[39;49m A new release of pip is available: \u001b[0m\u001b[31;49m23.2.1\u001b[0m\u001b[39;49m -> \u001b[0m\u001b[32;49m23.3\u001b[0m\n",
      "\u001b[1m[\u001b[0m\u001b[34;49mnotice\u001b[0m\u001b[1;39;49m]\u001b[0m\u001b[39;49m To update, run: \u001b[0m\u001b[32;49mpip install --upgrade pip\u001b[0m\n"
     ]
    }
   ],
   "source": [
    "# install milvus with [client] extras by pip\n",
    "!python3 -m pip install \"milvus[client]\""
   ]
  },
  {
   "attachments": {},
   "cell_type": "markdown",
   "metadata": {},
   "source": [
    "## Examples for startup\n",
    "\n",
    "Below is the example for startup milvus server. And use the pymilvus to get the server version."
   ]
  },
  {
   "cell_type": "code",
   "execution_count": 2,
   "metadata": {},
   "outputs": [
    {
     "name": "stdout",
     "output_type": "stream",
     "text": [
      "v2.2-testing-20230824-68-ga34a9d606-lite\n"
     ]
    }
   ],
   "source": [
    "from milvus import default_server\n",
    "from pymilvus import connections, utility\n",
    "\n",
    "with default_server:\n",
    "    connections.connect(host='localhost', port=default_server.listen_port)\n",
    "    print(utility.get_server_version())"
   ]
  },
  {
   "cell_type": "code",
   "execution_count": null,
   "metadata": {},
   "outputs": [],
   "source": []
  }
 ],
 "metadata": {
  "kernelspec": {
   "display_name": "Python 3 (ipykernel)",
   "language": "python",
   "name": "python3"
  },
  "language_info": {
   "codemirror_mode": {
    "name": "ipython",
    "version": 3
   },
   "file_extension": ".py",
   "mimetype": "text/x-python",
   "name": "python",
   "nbconvert_exporter": "python",
   "pygments_lexer": "ipython3",
   "version": "3.11.5"
  }
 },
 "nbformat": 4,
 "nbformat_minor": 4
}
