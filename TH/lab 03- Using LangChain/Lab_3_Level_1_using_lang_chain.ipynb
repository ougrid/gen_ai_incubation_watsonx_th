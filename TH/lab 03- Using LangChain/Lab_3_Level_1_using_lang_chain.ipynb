{
 "cells": [
  {
   "cell_type": "markdown",
   "metadata": {
    "pycharm": {
     "name": "#%% md\n"
    }
   },
   "source": [
    "![image](https://raw.githubusercontent.com/IBM/watson-machine-learning-samples/master/cloud/notebooks/headers/watsonx-Prompt_Lab-Notebook.png)\n",
    "# Use watsonx, and LangChain to make a series of calls to a language model"
   ]
  },
  {
   "cell_type": "markdown",
   "metadata": {
    "pycharm": {
     "name": "#%% md\n"
    }
   },
   "source": [
    "#### Disclaimers\n",
    "\n",
    "- Use only Projects and Spaces that are available in watsonx context.\n",
    "\n",
    "\n",
    "## Notebook content\n",
    "\n",
    "This notebook contains the steps and code to demonstrate Simple Sequential Chain using langchain integration with watsonx models.\n",
    "\n",
    "Some familiarity with Python is helpful. This notebook uses Python 3.10.\n",
    "\n",
    "\n",
    "## Learning goal\n",
    "\n",
    "The goal of this notebook is to demonstrate how to chain `google/flan-ul2` and `google/flan-t5-xxl` models to generate a sequence of creating a random question on a given topic and an answer to that question and also to make the user friends with LangChain framework, using simple chain (LLMChain) and the extended chain (SimpleSequentialChain) with the WatsonxLLM.\n",
    "\n",
    "\n",
    "## Contents\n",
    "\n",
    "This notebook contains the following parts:\n",
    "\n",
    "- [Setup](#setup)\n",
    "- [Foundation Models on watsonx](#models)\n",
    "- [LangChain integration](#watsonxllm)\n",
    "- [Simple Sequential Chain experiment](#experiment)\n",
    "- [Summary](#summary)"
   ]
  },
  {
   "cell_type": "markdown",
   "metadata": {
    "pycharm": {
     "name": "#%% md\n"
    }
   },
   "source": [
    "<a id=\"setup\"></a>\n",
    "## Set up the environment\n",
    "\n",
    "Before you use the sample code in this notebook, you must perform the following setup tasks:\n",
    "\n",
    "-  Create a <a href=\"https://console.ng.bluemix.net/catalog/services/ibm-watson-machine-learning/\" target=\"_blank\" rel=\"noopener no referrer\">Watson Machine Learning (WML) Service</a> instance (a free plan is offered and information about how to create the instance can be found <a href=\"https://dataplatform.cloud.ibm.com/docs/content/wsj/analyze-data/ml-service-instance.html?context=analytics\" target=\"_blank\" rel=\"noopener no referrer\">here</a>)."
   ]
  },
  {
   "cell_type": "markdown",
   "metadata": {
    "pycharm": {
     "name": "#%% md\n"
    }
   },
   "source": [
    "### Install and import the `datasets` and dependecies"
   ]
  },
  {
   "cell_type": "code",
   "execution_count": 2,
   "metadata": {
    "pycharm": {
     "is_executing": true,
     "name": "#%%\n"
    }
   },
   "outputs": [
    {
     "name": "stdout",
     "output_type": "stream",
     "text": [
      "Requirement already satisfied: ibm-watson-machine-learning>=1.0.327 in c:\\users\\ougri\\anaconda3\\envs\\genai\\lib\\site-packages (1.0.327)\n",
      "Requirement already satisfied: requests in c:\\users\\ougri\\anaconda3\\envs\\genai\\lib\\site-packages (from ibm-watson-machine-learning>=1.0.327) (2.31.0)\n",
      "Requirement already satisfied: urllib3 in c:\\users\\ougri\\anaconda3\\envs\\genai\\lib\\site-packages (from ibm-watson-machine-learning>=1.0.327) (1.26.11)\n",
      "Requirement already satisfied: pandas<1.6.0,>=0.24.2 in c:\\users\\ougri\\anaconda3\\envs\\genai\\lib\\site-packages (from ibm-watson-machine-learning>=1.0.327) (1.5.3)\n",
      "Requirement already satisfied: certifi in c:\\users\\ougri\\anaconda3\\envs\\genai\\lib\\site-packages (from ibm-watson-machine-learning>=1.0.327) (2023.7.22)\n",
      "Requirement already satisfied: lomond in c:\\users\\ougri\\anaconda3\\envs\\genai\\lib\\site-packages (from ibm-watson-machine-learning>=1.0.327) (0.3.3)\n",
      "Requirement already satisfied: tabulate in c:\\users\\ougri\\anaconda3\\envs\\genai\\lib\\site-packages (from ibm-watson-machine-learning>=1.0.327) (0.9.0)\n",
      "Requirement already satisfied: packaging in c:\\users\\ougri\\anaconda3\\envs\\genai\\lib\\site-packages (from ibm-watson-machine-learning>=1.0.327) (23.2)\n",
      "Requirement already satisfied: importlib-metadata in c:\\users\\ougri\\anaconda3\\envs\\genai\\lib\\site-packages (from ibm-watson-machine-learning>=1.0.327) (6.8.0)\n",
      "Requirement already satisfied: ibm-cos-sdk<2.14.0,>=2.12.0 in c:\\users\\ougri\\anaconda3\\envs\\genai\\lib\\site-packages (from ibm-watson-machine-learning>=1.0.327) (2.12.0)\n",
      "Requirement already satisfied: ibm-cos-sdk-core==2.12.0 in c:\\users\\ougri\\anaconda3\\envs\\genai\\lib\\site-packages (from ibm-cos-sdk<2.14.0,>=2.12.0->ibm-watson-machine-learning>=1.0.327) (2.12.0)\n",
      "Requirement already satisfied: ibm-cos-sdk-s3transfer==2.12.0 in c:\\users\\ougri\\anaconda3\\envs\\genai\\lib\\site-packages (from ibm-cos-sdk<2.14.0,>=2.12.0->ibm-watson-machine-learning>=1.0.327) (2.12.0)\n",
      "Requirement already satisfied: jmespath<1.0.0,>=0.10.0 in c:\\users\\ougri\\anaconda3\\envs\\genai\\lib\\site-packages (from ibm-cos-sdk<2.14.0,>=2.12.0->ibm-watson-machine-learning>=1.0.327) (0.10.0)\n",
      "Requirement already satisfied: python-dateutil<3.0.0,>=2.8.2 in c:\\users\\ougri\\anaconda3\\envs\\genai\\lib\\site-packages (from ibm-cos-sdk-core==2.12.0->ibm-cos-sdk<2.14.0,>=2.12.0->ibm-watson-machine-learning>=1.0.327) (2.8.2)\n",
      "Requirement already satisfied: pytz>=2020.1 in c:\\users\\ougri\\anaconda3\\envs\\genai\\lib\\site-packages (from pandas<1.6.0,>=0.24.2->ibm-watson-machine-learning>=1.0.327) (2023.3.post1)\n",
      "Requirement already satisfied: numpy>=1.21.0 in c:\\users\\ougri\\anaconda3\\envs\\genai\\lib\\site-packages (from pandas<1.6.0,>=0.24.2->ibm-watson-machine-learning>=1.0.327) (1.24.2)\n",
      "Requirement already satisfied: charset-normalizer<4,>=2 in c:\\users\\ougri\\anaconda3\\envs\\genai\\lib\\site-packages (from requests->ibm-watson-machine-learning>=1.0.327) (3.3.2)\n",
      "Requirement already satisfied: idna<4,>=2.5 in c:\\users\\ougri\\anaconda3\\envs\\genai\\lib\\site-packages (from requests->ibm-watson-machine-learning>=1.0.327) (2.10)\n",
      "Requirement already satisfied: zipp>=0.5 in c:\\users\\ougri\\anaconda3\\envs\\genai\\lib\\site-packages (from importlib-metadata->ibm-watson-machine-learning>=1.0.327) (3.17.0)\n",
      "Requirement already satisfied: six>=1.10.0 in c:\\users\\ougri\\anaconda3\\envs\\genai\\lib\\site-packages (from lomond->ibm-watson-machine-learning>=1.0.327) (1.16.0)\n",
      "Requirement already satisfied: pydantic>=1.10.0 in c:\\users\\ougri\\anaconda3\\envs\\genai\\lib\\site-packages (1.10.13)\n",
      "Requirement already satisfied: typing-extensions>=4.2.0 in c:\\users\\ougri\\anaconda3\\envs\\genai\\lib\\site-packages (from pydantic>=1.10.0) (4.8.0)\n",
      "Requirement already satisfied: langchain in c:\\users\\ougri\\anaconda3\\envs\\genai\\lib\\site-packages (0.0.236)\n",
      "Requirement already satisfied: PyYAML>=5.4.1 in c:\\users\\ougri\\anaconda3\\envs\\genai\\lib\\site-packages (from langchain) (6.0.1)\n",
      "Requirement already satisfied: SQLAlchemy<3,>=1.4 in c:\\users\\ougri\\appdata\\roaming\\python\\python311\\site-packages (from langchain) (2.0.22)\n",
      "Requirement already satisfied: aiohttp<4.0.0,>=3.8.3 in c:\\users\\ougri\\appdata\\roaming\\python\\python311\\site-packages (from langchain) (3.8.6)\n",
      "Requirement already satisfied: dataclasses-json<0.6.0,>=0.5.7 in c:\\users\\ougri\\anaconda3\\envs\\genai\\lib\\site-packages (from langchain) (0.5.14)\n",
      "Requirement already satisfied: langsmith<0.0.11,>=0.0.10 in c:\\users\\ougri\\anaconda3\\envs\\genai\\lib\\site-packages (from langchain) (0.0.10)\n",
      "Requirement already satisfied: numexpr<3.0.0,>=2.8.4 in c:\\users\\ougri\\anaconda3\\envs\\genai\\lib\\site-packages (from langchain) (2.8.7)\n",
      "Requirement already satisfied: numpy<2,>=1 in c:\\users\\ougri\\anaconda3\\envs\\genai\\lib\\site-packages (from langchain) (1.24.2)\n",
      "Requirement already satisfied: openapi-schema-pydantic<2.0,>=1.2 in c:\\users\\ougri\\anaconda3\\envs\\genai\\lib\\site-packages (from langchain) (1.2.4)\n",
      "Requirement already satisfied: pydantic<2,>=1 in c:\\users\\ougri\\anaconda3\\envs\\genai\\lib\\site-packages (from langchain) (1.10.13)\n",
      "Requirement already satisfied: requests<3,>=2 in c:\\users\\ougri\\anaconda3\\envs\\genai\\lib\\site-packages (from langchain) (2.31.0)\n",
      "Requirement already satisfied: tenacity<9.0.0,>=8.1.0 in c:\\users\\ougri\\anaconda3\\envs\\genai\\lib\\site-packages (from langchain) (8.2.3)\n",
      "Requirement already satisfied: attrs>=17.3.0 in c:\\users\\ougri\\appdata\\roaming\\python\\python311\\site-packages (from aiohttp<4.0.0,>=3.8.3->langchain) (23.1.0)\n",
      "Requirement already satisfied: charset-normalizer<4.0,>=2.0 in c:\\users\\ougri\\anaconda3\\envs\\genai\\lib\\site-packages (from aiohttp<4.0.0,>=3.8.3->langchain) (3.3.2)\n",
      "Requirement already satisfied: multidict<7.0,>=4.5 in c:\\users\\ougri\\anaconda3\\envs\\genai\\lib\\site-packages (from aiohttp<4.0.0,>=3.8.3->langchain) (6.0.4)\n",
      "Requirement already satisfied: async-timeout<5.0,>=4.0.0a3 in c:\\users\\ougri\\appdata\\roaming\\python\\python311\\site-packages (from aiohttp<4.0.0,>=3.8.3->langchain) (4.0.3)\n",
      "Requirement already satisfied: yarl<2.0,>=1.0 in c:\\users\\ougri\\anaconda3\\envs\\genai\\lib\\site-packages (from aiohttp<4.0.0,>=3.8.3->langchain) (1.9.2)\n",
      "Requirement already satisfied: frozenlist>=1.1.1 in c:\\users\\ougri\\appdata\\roaming\\python\\python311\\site-packages (from aiohttp<4.0.0,>=3.8.3->langchain) (1.4.0)\n",
      "Requirement already satisfied: aiosignal>=1.1.2 in c:\\users\\ougri\\appdata\\roaming\\python\\python311\\site-packages (from aiohttp<4.0.0,>=3.8.3->langchain) (1.3.1)\n",
      "Requirement already satisfied: marshmallow<4.0.0,>=3.18.0 in c:\\users\\ougri\\anaconda3\\envs\\genai\\lib\\site-packages (from dataclasses-json<0.6.0,>=0.5.7->langchain) (3.20.1)\n",
      "Requirement already satisfied: typing-inspect<1,>=0.4.0 in c:\\users\\ougri\\anaconda3\\envs\\genai\\lib\\site-packages (from dataclasses-json<0.6.0,>=0.5.7->langchain) (0.9.0)\n",
      "Requirement already satisfied: typing-extensions>=4.2.0 in c:\\users\\ougri\\anaconda3\\envs\\genai\\lib\\site-packages (from pydantic<2,>=1->langchain) (4.8.0)\n",
      "Requirement already satisfied: idna<4,>=2.5 in c:\\users\\ougri\\anaconda3\\envs\\genai\\lib\\site-packages (from requests<3,>=2->langchain) (2.10)\n",
      "Requirement already satisfied: urllib3<3,>=1.21.1 in c:\\users\\ougri\\anaconda3\\envs\\genai\\lib\\site-packages (from requests<3,>=2->langchain) (1.26.11)\n",
      "Requirement already satisfied: certifi>=2017.4.17 in c:\\users\\ougri\\anaconda3\\envs\\genai\\lib\\site-packages (from requests<3,>=2->langchain) (2023.7.22)\n",
      "Requirement already satisfied: greenlet!=0.4.17 in c:\\users\\ougri\\appdata\\roaming\\python\\python311\\site-packages (from SQLAlchemy<3,>=1.4->langchain) (3.0.0)\n",
      "Requirement already satisfied: packaging>=17.0 in c:\\users\\ougri\\anaconda3\\envs\\genai\\lib\\site-packages (from marshmallow<4.0.0,>=3.18.0->dataclasses-json<0.6.0,>=0.5.7->langchain) (23.2)\n",
      "Requirement already satisfied: mypy-extensions>=0.3.0 in c:\\users\\ougri\\anaconda3\\envs\\genai\\lib\\site-packages (from typing-inspect<1,>=0.4.0->dataclasses-json<0.6.0,>=0.5.7->langchain) (1.0.0)\n"
     ]
    }
   ],
   "source": [
    "# !pip install \"ibm-watson-machine-learning>=1.0.327\" | tail -n 1\n",
    "# !pip install \"pydantic>=1.10.0\" | tail -n 1\n",
    "# !pip install langchain | tail -n 1\n",
    "\n",
    "!pip install \"ibm-watson-machine-learning>=1.0.327\" \n",
    "!pip install \"pydantic>=1.10.0\" \n",
    "!pip install langchain"
   ]
  },
  {
   "cell_type": "markdown",
   "metadata": {
    "pycharm": {
     "name": "#%% md\n"
    }
   },
   "source": [
    "### Defining the WML credentials\n",
    "This cell defines the WML credentials required to work with watsonx Foundation Model inferencing.\n",
    "\n",
    "**Action:** Provide the IBM Cloud user API key. For details, see\n",
    "[documentation](https://cloud.ibm.com/docs/account?topic=account-userapikey&interface=ui)."
   ]
  },
  {
   "cell_type": "code",
   "execution_count": 3,
   "metadata": {
    "pycharm": {
     "name": "#%%\n"
    }
   },
   "outputs": [],
   "source": [
    "import getpass\n",
    "\n",
    "credentials = {\n",
    "    \"url\": \"https://us-south.ml.cloud.ibm.com\",\n",
    "    \"apikey\": getpass.getpass(\"Please enter your WML api key (hit enter): \")\n",
    "}"
   ]
  },
  {
   "cell_type": "markdown",
   "metadata": {
    "pycharm": {
     "name": "#%% md\n"
    }
   },
   "source": [
    "### Defining the project id\n",
    "The Foundation Model requires project id that provides the context for the call. We will obtain the id from the project in which this notebook runs. Otherwise, please provide the project id."
   ]
  },
  {
   "cell_type": "code",
   "execution_count": 5,
   "metadata": {
    "pycharm": {
     "name": "#%%\n"
    }
   },
   "outputs": [],
   "source": [
    "import os\n",
    "\n",
    "try:\n",
    "    project_id = os.environ[\"PROJECT_ID\"]\n",
    "except KeyError:\n",
    "    project_id = input(\"Please enter your project_id (hit enter): \")"
   ]
  },
  {
   "cell_type": "markdown",
   "metadata": {
    "pycharm": {
     "name": "#%% md\n"
    }
   },
   "source": [
    "<a id=\"models\"></a>\n",
    "## Foundation Models on `watsonx.ai`"
   ]
  },
  {
   "cell_type": "markdown",
   "metadata": {
    "pycharm": {
     "name": "#%% md\n"
    }
   },
   "source": [
    "#### List available models\n",
    "\n",
    "All avaliable models are presented under `ModelTypes` class."
   ]
  },
  {
   "cell_type": "code",
   "execution_count": 6,
   "metadata": {
    "pycharm": {
     "name": "#%%\n"
    }
   },
   "outputs": [
    {
     "name": "stdout",
     "output_type": "stream",
     "text": [
      "['FLAN_T5_XXL', 'FLAN_UL2', 'MT0_XXL', 'GPT_NEOX', 'MPT_7B_INSTRUCT2', 'STARCODER', 'LLAMA_2_70B_CHAT', 'GRANITE_13B_INSTRUCT', 'GRANITE_13B_CHAT']\n"
     ]
    }
   ],
   "source": [
    "from ibm_watson_machine_learning.foundation_models.utils.enums import ModelTypes\n",
    "\n",
    "print([model.name for model in ModelTypes])"
   ]
  },
  {
   "cell_type": "markdown",
   "metadata": {
    "pycharm": {
     "name": "#%% md\n"
    }
   },
   "source": [
    "You need to specify `model_id`'s that will be used for inferencing:"
   ]
  },
  {
   "cell_type": "code",
   "execution_count": 7,
   "metadata": {
    "pycharm": {
     "name": "#%%\n"
    }
   },
   "outputs": [],
   "source": [
    "model_id_1 = ModelTypes.FLAN_UL2\n",
    "model_id_2 = ModelTypes.FLAN_T5_XXL"
   ]
  },
  {
   "cell_type": "markdown",
   "metadata": {
    "pycharm": {
     "name": "#%% md\n"
    }
   },
   "source": [
    "### Defining the model parameters\n",
    "\n",
    "You might need to adjust model `parameters` for different models or tasks, to do so please refer to documentation under `GenTextParamsMetaNames` class.\n",
    "\n",
    "**Action:** If any complications please refer to the [documentation](https://ibm.github.io/watson-machine-learning-sdk/)."
   ]
  },
  {
   "cell_type": "code",
   "execution_count": 8,
   "metadata": {
    "pycharm": {
     "name": "#%%\n"
    }
   },
   "outputs": [],
   "source": [
    "from ibm_watson_machine_learning.metanames import GenTextParamsMetaNames as GenParams\n",
    "from ibm_watson_machine_learning.foundation_models.utils.enums import DecodingMethods\n",
    "\n",
    "parameters = {\n",
    "    GenParams.DECODING_METHOD: DecodingMethods.SAMPLE,\n",
    "    GenParams.MAX_NEW_TOKENS: 100,\n",
    "    GenParams.MIN_NEW_TOKENS: 1,\n",
    "    GenParams.TEMPERATURE: 0.5,\n",
    "    GenParams.TOP_K: 50,\n",
    "    GenParams.TOP_P: 1\n",
    "}"
   ]
  },
  {
   "cell_type": "markdown",
   "metadata": {},
   "source": [
    "### Initialize the model\n",
    "Initialize the `Model` class with previous set params."
   ]
  },
  {
   "cell_type": "code",
   "execution_count": 9,
   "metadata": {},
   "outputs": [],
   "source": [
    "from ibm_watson_machine_learning.foundation_models import Model\n",
    "\n",
    "flan_ul2_model = Model(\n",
    "    model_id=model_id_1, \n",
    "    params=parameters, \n",
    "    credentials=credentials,\n",
    "    project_id=project_id)\n",
    "\n",
    "flan_t5_model = Model(\n",
    "    model_id=model_id_2,\n",
    "    credentials=credentials,\n",
    "    project_id=project_id)"
   ]
  },
  {
   "cell_type": "markdown",
   "metadata": {
    "pycharm": {
     "name": "#%% md\n"
    }
   },
   "source": [
    "<a id=\"watsonxllm\"></a>\n",
    "## LangChain integration\n",
    "\n",
    "`WatsonxLLM` is a wrapper around watsonx.ai models that provide chain integration around the models.\n",
    "\n",
    "**Action:** For more details about `CustomLLM` check the [LangChain documentation](https://python.langchain.com/docs/modules/model_io/models/llms/custom_llm) \n",
    "\n",
    "\n",
    "### Initialize the `WatsonxLLM` class."
   ]
  },
  {
   "cell_type": "code",
   "execution_count": 10,
   "metadata": {
    "pycharm": {
     "name": "#%%\n"
    }
   },
   "outputs": [],
   "source": [
    "from ibm_watson_machine_learning.foundation_models.extensions.langchain import WatsonxLLM\n",
    "\n",
    "flan_ul2_llm = WatsonxLLM(model=flan_ul2_model)\n",
    "flan_t5_llm = WatsonxLLM(model=flan_t5_model)"
   ]
  },
  {
   "cell_type": "markdown",
   "metadata": {},
   "source": [
    "**Hint:** To use Chain interface from LangChain with watsonx.ai models you must call `model.to_langchain()` method. \n",
    "\n",
    "It returns `WatsonxLLM` wrapper compatible with LangChain CustomLLM specification."
   ]
  },
  {
   "cell_type": "code",
   "execution_count": 11,
   "metadata": {},
   "outputs": [
    {
     "data": {
      "text/plain": [
       "WatsonxLLM(cache=None, verbose=False, callbacks=None, callback_manager=None, tags=None, metadata=None, model=<ibm_watson_machine_learning.foundation_models.model.Model object at 0x00000270BE363D90>, llm_type='IBM watsonx.ai')"
      ]
     },
     "execution_count": 11,
     "metadata": {},
     "output_type": "execute_result"
    }
   ],
   "source": [
    "flan_ul2_model.to_langchain()"
   ]
  },
  {
   "cell_type": "markdown",
   "metadata": {
    "pycharm": {
     "name": "#%% md\n"
    }
   },
   "source": [
    "You can print all set data about the WatsonxLLM object using the `dict()` method."
   ]
  },
  {
   "cell_type": "code",
   "execution_count": 12,
   "metadata": {
    "pycharm": {
     "name": "#%%\n"
    }
   },
   "outputs": [
    {
     "data": {
      "text/plain": [
       "{'model_id': 'google/flan-ul2',\n",
       " 'params': {'decoding_method': <DecodingMethods.SAMPLE: 'sample'>,\n",
       "  'max_new_tokens': 100,\n",
       "  'min_new_tokens': 1,\n",
       "  'temperature': 0.5,\n",
       "  'top_k': 50,\n",
       "  'top_p': 1},\n",
       " 'project_id': '96a41abe-6034-42e1-bcab-99d8cf62fd58',\n",
       " 'space_id': None,\n",
       " '_type': 'IBM watsonx.ai'}"
      ]
     },
     "execution_count": 12,
     "metadata": {},
     "output_type": "execute_result"
    }
   ],
   "source": [
    "flan_ul2_llm.dict()"
   ]
  },
  {
   "cell_type": "markdown",
   "metadata": {
    "pycharm": {
     "name": "#%% md\n"
    }
   },
   "source": [
    "<a id=\"experiment\"></a>\n",
    "## Simple Sequential Chain experiment\n",
    "The simplest type of sequential chain is called a `SimpleSequentialChain`, in which each step has a single input and output and the output of one step serves as the input for the following step.\n",
    "\n",
    "The experiment will consist in generating a random question about any topic and answer the following question."
   ]
  },
  {
   "cell_type": "markdown",
   "metadata": {
    "pycharm": {
     "name": "#%% md\n"
    }
   },
   "source": [
    "An object called `PromptTemplate` assists in generating prompts using a combination of user input, additional non-static data, and a fixed template string.\n",
    "\n",
    "In our case we would like to create two `PromptTemplate` objects which will be responsible for creating a random question and answering it."
   ]
  },
  {
   "cell_type": "code",
   "execution_count": 13,
   "metadata": {
    "pycharm": {
     "name": "#%%\n"
    }
   },
   "outputs": [],
   "source": [
    "from langchain import PromptTemplate\n",
    "\n",
    "prompt_1 = PromptTemplate(\n",
    "    input_variables=[\"topic\"], \n",
    "    template=\"Generate a random question about {topic}: Question: \"\n",
    ")\n",
    "prompt_2 = PromptTemplate(\n",
    "    input_variables=[\"question\"],\n",
    "    template=\"Answer the following question: {question}\",\n",
    ")"
   ]
  },
  {
   "cell_type": "markdown",
   "metadata": {
    "pycharm": {
     "name": "#%% md\n"
    }
   },
   "source": [
    "We would like to add functionality around language models using `LLMChain` chain.\n",
    "\n",
    "`prompt_to_flan_ul2` chain formats the prompt template whose task is to generate random question, passes the formatted string to LLM and returns the LLM output."
   ]
  },
  {
   "cell_type": "markdown",
   "metadata": {},
   "source": [
    "**Hint:** To use Chain interface from LangChain with watsonx.ai models you must call `model.to_langchain()` method. \n",
    "\n",
    "It returns `WatsonxLLM` wrapper compatible with LangChain CustomLLM specification.\n"
   ]
  },
  {
   "cell_type": "code",
   "execution_count": 14,
   "metadata": {
    "pycharm": {
     "name": "#%%\n"
    }
   },
   "outputs": [],
   "source": [
    "from langchain.chains import LLMChain\n",
    "\n",
    "prompt_to_flan_ul2 = LLMChain(llm=flan_ul2_model.to_langchain(), prompt=prompt_1)"
   ]
  },
  {
   "cell_type": "markdown",
   "metadata": {
    "pycharm": {
     "name": "#%% md\n"
    }
   },
   "source": [
    "`flan_to_t5` chain formats the prompt template whose task is to answer the question we got from `prompt_to_flan_ul2` chain, passes the formatted string to LLM and returns the LLM output."
   ]
  },
  {
   "cell_type": "code",
   "execution_count": 15,
   "metadata": {
    "pycharm": {
     "name": "#%%\n"
    }
   },
   "outputs": [],
   "source": [
    "flan_to_t5 = LLMChain(llm=flan_t5_model.to_langchain(), prompt=prompt_2)"
   ]
  },
  {
   "cell_type": "markdown",
   "metadata": {
    "pycharm": {
     "name": "#%% md\n"
    }
   },
   "source": [
    "This is the overall chain where we run `prompt_to_flan_ul2` and `flan_to_t5` chains in sequence."
   ]
  },
  {
   "cell_type": "code",
   "execution_count": 16,
   "metadata": {
    "pycharm": {
     "name": "#%%\n"
    }
   },
   "outputs": [],
   "source": [
    "from langchain.chains import SimpleSequentialChain\n",
    "\n",
    "qa = SimpleSequentialChain(chains=[prompt_to_flan_ul2, flan_to_t5], verbose=True)"
   ]
  },
  {
   "cell_type": "markdown",
   "metadata": {
    "pycharm": {
     "name": "#%% md\n"
    }
   },
   "source": [
    "Generate random question and answer to topic."
   ]
  },
  {
   "cell_type": "code",
   "execution_count": 23,
   "metadata": {
    "pycharm": {
     "name": "#%%\n"
    }
   },
   "outputs": [
    {
     "name": "stdout",
     "output_type": "stream",
     "text": [
      "\n",
      "\n",
      "\u001b[1m> Entering new SimpleSequentialChain chain...\u001b[0m\n",
      "\u001b[36;1m\u001b[1;3mWhat is a major cause of death in the US?\u001b[0m\n",
      "\u001b[33;1m\u001b[1;3mheart disease\u001b[0m\n",
      "\n",
      "\u001b[1m> Finished chain.\u001b[0m\n"
     ]
    },
    {
     "data": {
      "text/plain": [
       "'heart disease'"
      ]
     },
     "execution_count": 23,
     "metadata": {},
     "output_type": "execute_result"
    }
   ],
   "source": [
    "qa.run('life')"
   ]
  },
  {
   "cell_type": "markdown",
   "metadata": {
    "pycharm": {
     "name": "#%% md\n"
    }
   },
   "source": [
    "<a id=\"summary\"></a>\n",
    "## Summary and next steps\n",
    "\n",
    " You successfully completed this notebook!.\n",
    " \n",
    " You learned how to use Simple Squential Chain using custom llm WastonxLLM.\n",
    " \n",
    "Check out our _[Online Documentation](https://ibm.github.io/watson-machine-learning-sdk/samples.html)_ for more samples, tutorials, documentation, how-tos, and blog posts. "
   ]
  },
  {
   "cell_type": "markdown",
   "metadata": {
    "pycharm": {
     "name": "#%% md\n"
    }
   },
   "source": [
    "### Authors: \n",
    " **Mateusz Szewczyk**, Software Engineer at Watson Machine Learning."
   ]
  },
  {
   "cell_type": "markdown",
   "metadata": {
    "pycharm": {
     "name": "#%% md\n"
    }
   },
   "source": [
    "Copyright © 2023 IBM. This notebook and its source code are released under the terms of the MIT License."
   ]
  }
 ],
 "metadata": {
  "kernelspec": {
   "display_name": "notebook-samples",
   "language": "python",
   "name": "python3"
  },
  "language_info": {
   "codemirror_mode": {
    "name": "ipython",
    "version": 3
   },
   "file_extension": ".py",
   "mimetype": "text/x-python",
   "name": "python",
   "nbconvert_exporter": "python",
   "pygments_lexer": "ipython3",
   "version": "3.11.5"
  },
  "orig_nbformat": 4
 },
 "nbformat": 4,
 "nbformat_minor": 2
}
