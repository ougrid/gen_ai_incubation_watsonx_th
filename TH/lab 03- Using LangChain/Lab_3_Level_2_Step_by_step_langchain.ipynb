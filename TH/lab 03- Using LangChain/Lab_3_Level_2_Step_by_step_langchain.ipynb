{
 "cells": [
  {
   "cell_type": "markdown",
   "metadata": {
    "pycharm": {
     "name": "#%% md\n"
    }
   },
   "source": [
    "![image](https://raw.githubusercontent.com/IBM/watson-machine-learning-samples/master/cloud/notebooks/headers/watsonx-Prompt_Lab-Notebook.png)\n",
    "# Use watsonx, and LangChain to make a series of calls to a language model"
   ]
  },
  {
   "cell_type": "markdown",
   "metadata": {
    "pycharm": {
     "name": "#%% md\n"
    }
   },
   "source": [
    "#### Disclaimers\n",
    "\n",
    "- Use only Projects and Spaces that are available in watsonx context.\n",
    "- กรุณาใช้ Projects และข้อมูล ที่เตรียมไว้ให้ใน watsonx\n",
    "\n",
    "## Notebook content\n",
    "\n",
    "This notebook contains the steps and code to demonstrate Simple Sequential Chain using langchain integration with watsonx models.\n",
    "\n",
    "แบบฝึกหัดนี้ประกอบไปด้วย ตัวอย่างโค้ดและขั้นตอน การทำ Simple Sequential Chain โดยใช้ langchain เชื่อต่อกับ โมเดลจาก watsonx\n",
    "\n",
    "Some familiarity with Python is helpful. This notebook uses Python 3.10.\n",
    "\n",
    "แบบฝึกหัดนี้ใช้ Python 3.10 เหมาะสำหรับผู้มีพื้นฐาน Python\n",
    "\n",
    "## Learning goal\n",
    "\n",
    "The goal of this notebook is to demonstrate how to chain `google/flan-ul2` and `google/flan-t5-xxl` models to generate a sequence of creating a random question on a given topic and an answer to that question and also to make the user friends with LangChain framework, using simple chain (LLMChain) and the extended chain (SimpleSequentialChain) with the WatsonxLLM.\n",
    "\n",
    "เป้าหมายของแบบฝึกหัดนี้คือการสอนวิธีการ เชื่อมต่อ โมเดล 2 ส่วน ได้แก่ `google/flan-ul2` และ `google/flan-t5-xxl` เพื่อทำการสร้างการสนทนาถามและตอบ แบบง่าย โดยใช้ เฟรมเวิร์คที่เรียกว่า LangChain โดยใช้พื้นฐาน ของ simple chain (LLMChain) และขยายต่อไปสู่ chain การสนทนาที่ต่อเนื่อง (SimpleSequentialChain) โดยใช้ WatsonxLLM.\n",
    "\n",
    "\n",
    "## Contents\n",
    "\n",
    "This notebook contains the following parts:\n",
    "\n",
    "แบบฝึกหัดนี้ประกอบไปด้วย:\n",
    "\n",
    "- [Setup](#setup)\n",
    "- [Foundation Models on watsonx](#models)\n",
    "- [LangChain integration](#watsonxllm)\n",
    "- [Simple Sequential Chain experiment](#experiment)\n",
    "- [Summary](#summary)"
   ]
  },
  {
   "cell_type": "markdown",
   "metadata": {
    "pycharm": {
     "name": "#%% md\n"
    }
   },
   "source": [
    "<a id=\"setup\"></a>\n",
    "## Set up the environment\n",
    "\n",
    "Before you use the sample code in this notebook, you must perform the following setup tasks:\n",
    "\n",
    "ก่อนที่ทุกท่านจะเริ่มทำแบบฝึกหัดนี้ กรุณาทำการติดตั้ง ตามวิธีการนี้ก่อน:\n",
    "\n",
    "\n",
    "-  Create a <a href=\"https://console.ng.bluemix.net/catalog/services/ibm-watson-machine-learning/\" target=\"_blank\" rel=\"noopener no referrer\">Watson Machine Learning (WML) Service</a> instance (a free plan is offered and information about how to create the instance can be found <a href=\"https://dataplatform.cloud.ibm.com/docs/content/wsj/analyze-data/ml-service-instance.html?context=analytics\" target=\"_blank\" rel=\"noopener no referrer\">here</a>).\n",
    "\n",
    "\n",
    "-  สร้าง <a href=\"https://console.ng.bluemix.net/catalog/services/ibm-watson-machine-learning/\" target=\"_blank\" rel=\"noopener no referrer\">Watson Machine Learning (WML) Service</a> instance (สามารถใช้แบบไม่มีค่าใช้จ่าย และรายละเอียด การติดตั้งเป็นดังนี้ <a href=\"https://dataplatform.cloud.ibm.com/docs/content/wsj/analyze-data/ml-service-instance.html?context=analytics\" target=\"_blank\" rel=\"noopener no referrer\">ข้อมูลเพิ่มเติม</a>).\n"
   ]
  },
  {
   "cell_type": "markdown",
   "metadata": {
    "pycharm": {
     "name": "#%% md\n"
    }
   },
   "source": [
    "### Install and import the `datasets` and dependecies"
   ]
  },
  {
   "cell_type": "code",
   "execution_count": 28,
   "metadata": {
    "pycharm": {
     "is_executing": true,
     "name": "#%%\n"
    }
   },
   "outputs": [
    {
     "name": "stdout",
     "output_type": "stream",
     "text": [
      "Requirement already satisfied: ibm-watson-machine-learning>=1.0.327 in c:\\users\\ougri\\anaconda3\\envs\\genai\\lib\\site-packages (1.0.327)\n",
      "Requirement already satisfied: requests in c:\\users\\ougri\\anaconda3\\envs\\genai\\lib\\site-packages (from ibm-watson-machine-learning>=1.0.327) (2.31.0)\n",
      "Requirement already satisfied: urllib3 in c:\\users\\ougri\\anaconda3\\envs\\genai\\lib\\site-packages (from ibm-watson-machine-learning>=1.0.327) (1.26.11)\n",
      "Requirement already satisfied: pandas<1.6.0,>=0.24.2 in c:\\users\\ougri\\anaconda3\\envs\\genai\\lib\\site-packages (from ibm-watson-machine-learning>=1.0.327) (1.5.3)\n",
      "Requirement already satisfied: certifi in c:\\users\\ougri\\anaconda3\\envs\\genai\\lib\\site-packages (from ibm-watson-machine-learning>=1.0.327) (2023.7.22)\n",
      "Requirement already satisfied: lomond in c:\\users\\ougri\\anaconda3\\envs\\genai\\lib\\site-packages (from ibm-watson-machine-learning>=1.0.327) (0.3.3)\n",
      "Requirement already satisfied: tabulate in c:\\users\\ougri\\anaconda3\\envs\\genai\\lib\\site-packages (from ibm-watson-machine-learning>=1.0.327) (0.9.0)\n",
      "Requirement already satisfied: packaging in c:\\users\\ougri\\anaconda3\\envs\\genai\\lib\\site-packages (from ibm-watson-machine-learning>=1.0.327) (23.2)\n",
      "Requirement already satisfied: importlib-metadata in c:\\users\\ougri\\anaconda3\\envs\\genai\\lib\\site-packages (from ibm-watson-machine-learning>=1.0.327) (6.8.0)\n",
      "Requirement already satisfied: ibm-cos-sdk<2.14.0,>=2.12.0 in c:\\users\\ougri\\anaconda3\\envs\\genai\\lib\\site-packages (from ibm-watson-machine-learning>=1.0.327) (2.12.0)\n",
      "Requirement already satisfied: ibm-cos-sdk-core==2.12.0 in c:\\users\\ougri\\anaconda3\\envs\\genai\\lib\\site-packages (from ibm-cos-sdk<2.14.0,>=2.12.0->ibm-watson-machine-learning>=1.0.327) (2.12.0)\n",
      "Requirement already satisfied: ibm-cos-sdk-s3transfer==2.12.0 in c:\\users\\ougri\\anaconda3\\envs\\genai\\lib\\site-packages (from ibm-cos-sdk<2.14.0,>=2.12.0->ibm-watson-machine-learning>=1.0.327) (2.12.0)\n",
      "Requirement already satisfied: jmespath<1.0.0,>=0.10.0 in c:\\users\\ougri\\anaconda3\\envs\\genai\\lib\\site-packages (from ibm-cos-sdk<2.14.0,>=2.12.0->ibm-watson-machine-learning>=1.0.327) (0.10.0)\n",
      "Requirement already satisfied: python-dateutil<3.0.0,>=2.8.2 in c:\\users\\ougri\\anaconda3\\envs\\genai\\lib\\site-packages (from ibm-cos-sdk-core==2.12.0->ibm-cos-sdk<2.14.0,>=2.12.0->ibm-watson-machine-learning>=1.0.327) (2.8.2)\n",
      "Requirement already satisfied: pytz>=2020.1 in c:\\users\\ougri\\anaconda3\\envs\\genai\\lib\\site-packages (from pandas<1.6.0,>=0.24.2->ibm-watson-machine-learning>=1.0.327) (2023.3.post1)\n",
      "Requirement already satisfied: numpy>=1.21.0 in c:\\users\\ougri\\anaconda3\\envs\\genai\\lib\\site-packages (from pandas<1.6.0,>=0.24.2->ibm-watson-machine-learning>=1.0.327) (1.24.2)\n",
      "Requirement already satisfied: charset-normalizer<4,>=2 in c:\\users\\ougri\\anaconda3\\envs\\genai\\lib\\site-packages (from requests->ibm-watson-machine-learning>=1.0.327) (3.3.2)\n",
      "Requirement already satisfied: idna<4,>=2.5 in c:\\users\\ougri\\anaconda3\\envs\\genai\\lib\\site-packages (from requests->ibm-watson-machine-learning>=1.0.327) (2.10)\n",
      "Requirement already satisfied: zipp>=0.5 in c:\\users\\ougri\\anaconda3\\envs\\genai\\lib\\site-packages (from importlib-metadata->ibm-watson-machine-learning>=1.0.327) (3.17.0)\n",
      "Requirement already satisfied: six>=1.10.0 in c:\\users\\ougri\\anaconda3\\envs\\genai\\lib\\site-packages (from lomond->ibm-watson-machine-learning>=1.0.327) (1.16.0)\n",
      "Requirement already satisfied: pydantic>=1.10.0 in c:\\users\\ougri\\anaconda3\\envs\\genai\\lib\\site-packages (1.10.13)\n",
      "Requirement already satisfied: typing-extensions>=4.2.0 in c:\\users\\ougri\\anaconda3\\envs\\genai\\lib\\site-packages (from pydantic>=1.10.0) (4.8.0)\n",
      "Requirement already satisfied: langchain in c:\\users\\ougri\\anaconda3\\envs\\genai\\lib\\site-packages (0.0.236)\n",
      "Requirement already satisfied: PyYAML>=5.4.1 in c:\\users\\ougri\\anaconda3\\envs\\genai\\lib\\site-packages (from langchain) (6.0.1)\n",
      "Requirement already satisfied: SQLAlchemy<3,>=1.4 in c:\\users\\ougri\\appdata\\roaming\\python\\python311\\site-packages (from langchain) (2.0.22)\n",
      "Requirement already satisfied: aiohttp<4.0.0,>=3.8.3 in c:\\users\\ougri\\appdata\\roaming\\python\\python311\\site-packages (from langchain) (3.8.6)\n",
      "Requirement already satisfied: dataclasses-json<0.6.0,>=0.5.7 in c:\\users\\ougri\\anaconda3\\envs\\genai\\lib\\site-packages (from langchain) (0.5.14)\n",
      "Requirement already satisfied: langsmith<0.0.11,>=0.0.10 in c:\\users\\ougri\\anaconda3\\envs\\genai\\lib\\site-packages (from langchain) (0.0.10)\n",
      "Requirement already satisfied: numexpr<3.0.0,>=2.8.4 in c:\\users\\ougri\\anaconda3\\envs\\genai\\lib\\site-packages (from langchain) (2.8.7)\n",
      "Requirement already satisfied: numpy<2,>=1 in c:\\users\\ougri\\anaconda3\\envs\\genai\\lib\\site-packages (from langchain) (1.24.2)\n",
      "Requirement already satisfied: openapi-schema-pydantic<2.0,>=1.2 in c:\\users\\ougri\\anaconda3\\envs\\genai\\lib\\site-packages (from langchain) (1.2.4)\n",
      "Requirement already satisfied: pydantic<2,>=1 in c:\\users\\ougri\\anaconda3\\envs\\genai\\lib\\site-packages (from langchain) (1.10.13)\n",
      "Requirement already satisfied: requests<3,>=2 in c:\\users\\ougri\\anaconda3\\envs\\genai\\lib\\site-packages (from langchain) (2.31.0)\n",
      "Requirement already satisfied: tenacity<9.0.0,>=8.1.0 in c:\\users\\ougri\\anaconda3\\envs\\genai\\lib\\site-packages (from langchain) (8.2.3)\n",
      "Requirement already satisfied: attrs>=17.3.0 in c:\\users\\ougri\\appdata\\roaming\\python\\python311\\site-packages (from aiohttp<4.0.0,>=3.8.3->langchain) (23.1.0)\n",
      "Requirement already satisfied: charset-normalizer<4.0,>=2.0 in c:\\users\\ougri\\anaconda3\\envs\\genai\\lib\\site-packages (from aiohttp<4.0.0,>=3.8.3->langchain) (3.3.2)\n",
      "Requirement already satisfied: multidict<7.0,>=4.5 in c:\\users\\ougri\\anaconda3\\envs\\genai\\lib\\site-packages (from aiohttp<4.0.0,>=3.8.3->langchain) (6.0.4)\n",
      "Requirement already satisfied: async-timeout<5.0,>=4.0.0a3 in c:\\users\\ougri\\appdata\\roaming\\python\\python311\\site-packages (from aiohttp<4.0.0,>=3.8.3->langchain) (4.0.3)\n",
      "Requirement already satisfied: yarl<2.0,>=1.0 in c:\\users\\ougri\\anaconda3\\envs\\genai\\lib\\site-packages (from aiohttp<4.0.0,>=3.8.3->langchain) (1.9.2)\n",
      "Requirement already satisfied: frozenlist>=1.1.1 in c:\\users\\ougri\\appdata\\roaming\\python\\python311\\site-packages (from aiohttp<4.0.0,>=3.8.3->langchain) (1.4.0)\n",
      "Requirement already satisfied: aiosignal>=1.1.2 in c:\\users\\ougri\\appdata\\roaming\\python\\python311\\site-packages (from aiohttp<4.0.0,>=3.8.3->langchain) (1.3.1)\n",
      "Requirement already satisfied: marshmallow<4.0.0,>=3.18.0 in c:\\users\\ougri\\anaconda3\\envs\\genai\\lib\\site-packages (from dataclasses-json<0.6.0,>=0.5.7->langchain) (3.20.1)\n",
      "Requirement already satisfied: typing-inspect<1,>=0.4.0 in c:\\users\\ougri\\anaconda3\\envs\\genai\\lib\\site-packages (from dataclasses-json<0.6.0,>=0.5.7->langchain) (0.9.0)\n",
      "Requirement already satisfied: typing-extensions>=4.2.0 in c:\\users\\ougri\\anaconda3\\envs\\genai\\lib\\site-packages (from pydantic<2,>=1->langchain) (4.8.0)\n",
      "Requirement already satisfied: idna<4,>=2.5 in c:\\users\\ougri\\anaconda3\\envs\\genai\\lib\\site-packages (from requests<3,>=2->langchain) (2.10)\n",
      "Requirement already satisfied: urllib3<3,>=1.21.1 in c:\\users\\ougri\\anaconda3\\envs\\genai\\lib\\site-packages (from requests<3,>=2->langchain) (1.26.11)\n",
      "Requirement already satisfied: certifi>=2017.4.17 in c:\\users\\ougri\\anaconda3\\envs\\genai\\lib\\site-packages (from requests<3,>=2->langchain) (2023.7.22)\n",
      "Requirement already satisfied: greenlet!=0.4.17 in c:\\users\\ougri\\appdata\\roaming\\python\\python311\\site-packages (from SQLAlchemy<3,>=1.4->langchain) (3.0.0)\n",
      "Requirement already satisfied: packaging>=17.0 in c:\\users\\ougri\\anaconda3\\envs\\genai\\lib\\site-packages (from marshmallow<4.0.0,>=3.18.0->dataclasses-json<0.6.0,>=0.5.7->langchain) (23.2)\n",
      "Requirement already satisfied: mypy-extensions>=0.3.0 in c:\\users\\ougri\\anaconda3\\envs\\genai\\lib\\site-packages (from typing-inspect<1,>=0.4.0->dataclasses-json<0.6.0,>=0.5.7->langchain) (1.0.0)\n"
     ]
    }
   ],
   "source": [
    "# !pip install \"ibm-watson-machine-learning>=1.0.327\" | tail -n 1\n",
    "# !pip install \"pydantic>=1.10.0\" | tail -n 1\n",
    "# !pip install langchain | tail -n 1\n",
    "\n",
    "!pip install \"ibm-watson-machine-learning>=1.0.327\"\n",
    "!pip install \"pydantic>=1.10.0\"\n",
    "!pip install langchain "
   ]
  },
  {
   "cell_type": "markdown",
   "metadata": {
    "pycharm": {
     "name": "#%% md\n"
    }
   },
   "source": [
    "### Defining the WML credentials\n",
    "This cell defines the WML credentials required to work with watsonx Foundation Model inferencing.\n",
    "\n",
    "ขั้นตอนต่อไปนี้จะเป็นการระบุ credentials ที่จำเป็นต้องใช้ในการ ใช้งาน watsonx Foundation Model\n",
    "\n",
    "**Action:** Provide the IBM Cloud user API key. For details, see\n",
    "[documentation](https://cloud.ibm.com/docs/account?topic=account-userapikey&interface=ui).\n",
    "\n",
    "**Action:** กรอกข้อมูล IBM cloud user API key รายละเอียดและวิธีการอยู่ข้างล่าางนี้\n",
    "[documentation](https://cloud.ibm.com/docs/account?topic=account-userapikey&interface=ui)."
   ]
  },
  {
   "cell_type": "markdown",
   "metadata": {
    "pycharm": {
     "name": "#%% md\n"
    }
   },
   "source": [
    "### Defining the project id\n",
    "The Foundation Model requires project id that provides the context for the call. We will obtain the id from the project in which this notebook runs. Otherwise, please provide the project id.\n",
    "\n",
    "\n",
    "กำหนด project id เพื่อให้สามารถเชื่อมต่อแบบฝึกหนัดนี้ไปหา watsonx ได้อย่างถูกต้อง"
   ]
  },
  {
   "cell_type": "code",
   "execution_count": 2,
   "metadata": {},
   "outputs": [],
   "source": [
    "import os\n",
    "import json\n",
    "from dotenv import load_dotenv\n",
    "from ibm_watson_machine_learning.foundation_models import Model\n",
    "from ibm_watson_machine_learning.metanames import GenTextParamsMetaNames as GenParams"
   ]
  },
  {
   "cell_type": "code",
   "execution_count": 3,
   "metadata": {
    "pycharm": {
     "name": "#%%\n"
    }
   },
   "outputs": [],
   "source": [
    "#config Watsonx.ai environment\n",
    "load_dotenv()\n",
    "project_id = os.environ[\"PROJECT_ID\"]\n",
    "ibm_cloud_url = os.environ[\"IBM_CLOUD_URL\"]\n",
    "api_key = os.environ[\"API_KEY\"]\n"
   ]
  },
  {
   "cell_type": "code",
   "execution_count": 4,
   "metadata": {
    "pycharm": {
     "name": "#%%\n"
    }
   },
   "outputs": [],
   "source": [
    "#config Watsonx.ai environment\n",
    "\n",
    "if api_key is None or ibm_cloud_url is None or project_id is None:\n",
    "    raise Exception(\"Ensure you copied the .env file that you created earlier into the same directory as this notebook\")\n",
    "else:\n",
    "    credentials = {\n",
    "        \"url\": ibm_cloud_url,\n",
    "        \"apikey\": api_key \n",
    "    }"
   ]
  },
  {
   "cell_type": "markdown",
   "metadata": {
    "pycharm": {
     "name": "#%% md\n"
    }
   },
   "source": [
    "<a id=\"models\"></a>\n",
    "## Foundation Models on `watsonx.ai`"
   ]
  },
  {
   "cell_type": "markdown",
   "metadata": {
    "pycharm": {
     "name": "#%% md\n"
    }
   },
   "source": [
    "#### List available models\n",
    "\n",
    "All avaliable models are presented under ModelTypes class.\n",
    "For more information refer to [documentation](https://ibm.github.io/watson-machine-learning-sdk/foundation_models.html#ibm_watson_machine_learning.foundation_models.utils.enums.ModelTypes).\n",
    "\n",
    "\n",
    "Model ประเภท LLM ทั้งหมด สามารถดูได้จาก ModelTypes\n",
    "สามารถค้นหาข้อมูลเพิ่มเติมได้จาก [documentation](https://ibm.github.io/watson-machine-learning-sdk/foundation_models.html#ibm_watson_machine_learning.foundation_models.utils.enums.ModelTypes).\n"
   ]
  },
  {
   "cell_type": "code",
   "execution_count": 5,
   "metadata": {
    "pycharm": {
     "name": "#%%\n"
    }
   },
   "outputs": [
    {
     "name": "stdout",
     "output_type": "stream",
     "text": [
      "['FLAN_T5_XXL', 'FLAN_UL2', 'MT0_XXL', 'GPT_NEOX', 'MPT_7B_INSTRUCT2', 'STARCODER', 'LLAMA_2_70B_CHAT', 'GRANITE_13B_INSTRUCT', 'GRANITE_13B_CHAT']\n"
     ]
    }
   ],
   "source": [
    "from ibm_watson_machine_learning.foundation_models.utils.enums import ModelTypes\n",
    "\n",
    "print([model.name for model in ModelTypes])"
   ]
  },
  {
   "cell_type": "markdown",
   "metadata": {
    "pycharm": {
     "name": "#%% md\n"
    }
   },
   "source": [
    "You need to specify `model_id` that will be used for inferencing:\n",
    "\n",
    "ในการให้ LLM ทำงานนั้น เราเลือก `model_id` ที่เราต้องการจะใช้มัน:"
   ]
  },
  {
   "cell_type": "code",
   "execution_count": 6,
   "metadata": {
    "pycharm": {
     "name": "#%%\n"
    }
   },
   "outputs": [],
   "source": [
    "model_id_1 = ModelTypes.FLAN_UL2\n",
    "model_id_2 = ModelTypes.FLAN_T5_XXL\n",
    "model_id_3 = ModelTypes.LLAMA_2_70B_CHAT\n",
    "model_id_4 = ModelTypes.GRANITE_13B_INSTRUCT\n",
    "model_id_5 = ModelTypes.GPT_NEOX\n",
    "model_id_6 = ModelTypes.MPT_7B_INSTRUCT2"
   ]
  },
  {
   "cell_type": "markdown",
   "metadata": {
    "pycharm": {
     "name": "#%% md\n"
    }
   },
   "source": [
    "### Defining the model parameters\n",
    "\n",
    "You might need to adjust model `parameters` for different models or tasks, to do so please refer to documentation under `GenTextParamsMetaNames` class.\n",
    "\n",
    "**Action:** If any complications please refer to the [documentation](https://ibm.github.io/watson-machine-learning-sdk/).\n",
    "\n",
    "\n",
    "\n",
    "### ตั้งค่า parameters ของ model\n",
    "\n",
    "เราอาจต้องการ การปรับ `parameters` สำหรับ โมเดลที่ต่างกัน เพื่อทำประเภทของงานที่ต่างกัน สามารถอ่านข้อมูลเพิ่มเติมได้ที่ `GenTextParamsMetaNames` class\n",
    "[documentation](https://ibm.github.io/watson-machine-learning-sdk/foundation_models.html#metanames.GenTextParamsMetaNames)."
   ]
  },
  {
   "cell_type": "code",
   "execution_count": 7,
   "metadata": {
    "pycharm": {
     "name": "#%%\n"
    }
   },
   "outputs": [],
   "source": [
    "from ibm_watson_machine_learning.metanames import GenTextParamsMetaNames as GenParams\n",
    "from ibm_watson_machine_learning.foundation_models.utils.enums import DecodingMethods\n",
    "\n",
    "parameters = {\n",
    "    GenParams.DECODING_METHOD: DecodingMethods.SAMPLE,\n",
    "    GenParams.MAX_NEW_TOKENS: 100,\n",
    "    GenParams.MIN_NEW_TOKENS: 1,\n",
    "    GenParams.TEMPERATURE: 0.5,\n",
    "    GenParams.TOP_K: 50,\n",
    "    GenParams.TOP_P: 1\n",
    "}"
   ]
  },
  {
   "cell_type": "code",
   "execution_count": 8,
   "metadata": {},
   "outputs": [],
   "source": [
    "LLAMA_parameters = {\n",
    "    GenParams.DECODING_METHOD: DecodingMethods.SAMPLE,\n",
    "    GenParams.MAX_NEW_TOKENS: 100,\n",
    "    GenParams.MIN_NEW_TOKENS: 2,\n",
    "    GenParams.TEMPERATURE: 0.5,\n",
    "    GenParams.TOP_K: 50,\n",
    "    GenParams.TOP_P: 1\n",
    "}"
   ]
  },
  {
   "cell_type": "markdown",
   "metadata": {},
   "source": [
    "### Initialize the model\n",
    "Initialize the `Model` class with previous set params.\n",
    "\n",
    "เลือก `Model` และตั้งค่า `parameters`"
   ]
  },
  {
   "cell_type": "code",
   "execution_count": 9,
   "metadata": {},
   "outputs": [],
   "source": [
    "from ibm_watson_machine_learning.foundation_models import Model\n",
    "\n",
    "flan_ul2_model = Model(\n",
    "    model_id=model_id_1, \n",
    "    params=parameters, \n",
    "    credentials=credentials,\n",
    "    project_id=project_id)\n",
    "\n",
    "flan_t5_model = Model(\n",
    "    model_id=model_id_2,\n",
    "    credentials=credentials,\n",
    "    project_id=project_id)"
   ]
  },
  {
   "cell_type": "code",
   "execution_count": 10,
   "metadata": {},
   "outputs": [],
   "source": [
    "granite_model = Model(\n",
    "    model_id=model_id_4,\n",
    "    credentials=credentials,\n",
    "    project_id=project_id)"
   ]
  },
  {
   "cell_type": "code",
   "execution_count": 11,
   "metadata": {},
   "outputs": [],
   "source": [
    "gptneox_model = Model(\n",
    "    model_id=model_id_5,\n",
    "    credentials=credentials,\n",
    "    project_id=project_id)"
   ]
  },
  {
   "cell_type": "code",
   "execution_count": 12,
   "metadata": {},
   "outputs": [],
   "source": [
    "llama2_model = Model(\n",
    "    model_id=model_id_3, \n",
    "    params=LLAMA_parameters, \n",
    "    credentials=credentials,\n",
    "    project_id=project_id)"
   ]
  },
  {
   "cell_type": "markdown",
   "metadata": {
    "pycharm": {
     "name": "#%% md\n"
    }
   },
   "source": [
    "<a id=\"watsonxllm\"></a>\n",
    "## LangChain integration\n",
    "\n",
    "`WatsonxLLM` is a wrapper around watsonx.ai models that provide chain integration around the models.\n",
    "\n",
    "**Action:** For more details about `CustomLLM` check the [LangChain documentation](https://python.langchain.com/docs/modules/model_io/models/llms/custom_llm) \n",
    "\n",
    "\n",
    "`WatsonxLLM` คือ wrapper สำหรับ models ใน watsonx.ai ซึ่งจะทำให้สามารถใช้ model กับ Langchain ได้\n",
    "\n",
    "**Action:** For more details about `CustomLLM` check the [LangChain documentation](https://python.langchain.com/docs/modules/model_io/models/llms/custom_llm) \n",
    "\n",
    "\n",
    "### Initialize the `WatsonxLLM` class."
   ]
  },
  {
   "cell_type": "code",
   "execution_count": 13,
   "metadata": {
    "pycharm": {
     "name": "#%%\n"
    }
   },
   "outputs": [],
   "source": [
    "from ibm_watson_machine_learning.foundation_models.extensions.langchain import WatsonxLLM\n",
    "\n",
    "flan_ul2_llm = WatsonxLLM(model=flan_ul2_model)\n",
    "flan_t5_llm = WatsonxLLM(model=flan_t5_model)"
   ]
  },
  {
   "cell_type": "code",
   "execution_count": null,
   "metadata": {},
   "outputs": [],
   "source": []
  },
  {
   "cell_type": "markdown",
   "metadata": {},
   "source": [
    "**Hint:** To use Chain interface from LangChain with watsonx.ai models you must call `model.to_langchain()` method. \n",
    "\n",
    "It returns `WatsonxLLM` wrapper compatible with LangChain CustomLLM specification.\n",
    "\n",
    "**Hint:** ใช้ `model.to_langchain()` เพื่อทำให้โมเดลสามารถใช้ได้กับ LangChain\n"
   ]
  },
  {
   "cell_type": "code",
   "execution_count": 14,
   "metadata": {},
   "outputs": [
    {
     "data": {
      "text/plain": [
       "WatsonxLLM(cache=None, verbose=False, callbacks=None, callback_manager=None, tags=None, metadata=None, model=<ibm_watson_machine_learning.foundation_models.model.Model object at 0x0000025218F9ACD0>, llm_type='IBM watsonx.ai')"
      ]
     },
     "execution_count": 14,
     "metadata": {},
     "output_type": "execute_result"
    }
   ],
   "source": [
    "flan_ul2_model.to_langchain()"
   ]
  },
  {
   "cell_type": "markdown",
   "metadata": {
    "pycharm": {
     "name": "#%% md\n"
    }
   },
   "source": [
    "You can print all set data about the WatsonxLLM object using the `dict()` method.\n",
    "\n",
    "คุณสามารถพิมพ์ข้อมูลทั้งหมดเกี่ยวกับวัตสันเอลเอลเอ็็ม (WatsonxLLM) โดยใช้วิธี `dict()` "
   ]
  },
  {
   "cell_type": "code",
   "execution_count": 15,
   "metadata": {
    "pycharm": {
     "name": "#%%\n"
    }
   },
   "outputs": [
    {
     "data": {
      "text/plain": [
       "{'model_id': 'google/flan-ul2',\n",
       " 'params': {'decoding_method': <DecodingMethods.SAMPLE: 'sample'>,\n",
       "  'max_new_tokens': 100,\n",
       "  'min_new_tokens': 1,\n",
       "  'temperature': 0.5,\n",
       "  'top_k': 50,\n",
       "  'top_p': 1},\n",
       " 'project_id': '96a41abe-6034-42e1-bcab-99d8cf62fd58',\n",
       " 'space_id': None,\n",
       " '_type': 'IBM watsonx.ai'}"
      ]
     },
     "execution_count": 15,
     "metadata": {},
     "output_type": "execute_result"
    }
   ],
   "source": [
    "flan_ul2_llm.dict()"
   ]
  },
  {
   "cell_type": "markdown",
   "metadata": {
    "pycharm": {
     "name": "#%% md\n"
    }
   },
   "source": [
    "<a id=\"experiment\"></a>\n",
    "## Simple Sequential Chain experiment\n",
    "The simplest type of sequential chain is called a `SimpleSequentialChain`, in which each step has a single input and output and the output of one step serves as the input for the following step.\n",
    "\n",
    "The experiment will consist in generating a random question about any topic and answer the following question.\n",
    "\n",
    "<a id=\"experiment\"></a>\n",
    "## การทดลอง Simple Sequential Chain\n",
    "\n",
    "Chain ที่เรียงต่อกัน ชนิดที่ง่ายที่สุดคือ `SimpleSequentialChain` ในลักษณะนี้แต่ละขั้นตอนมีข้อมูลนำเข้าและข้อมูลส่งออกเพียงมิติเดียว ต่อเนื่องกัน และข้อมูลส่งออกของขั้นตอนหนึ่งนั้นใช้เป็นข้อมูลนำเข้าของขั้นตอนถัดไป\n",
    "\n",
    "การทดลองจะประกอบด้วยการสร้างคำถามสุ่มเกี่ยวกับหัวข้อใดก็ได้และตอบคําถามต่อมา\n"
   ]
  },
  {
   "cell_type": "markdown",
   "metadata": {
    "pycharm": {
     "name": "#%% md\n"
    }
   },
   "source": [
    "An object called `PromptTemplate` assists in generating prompts using a combination of user input, additional non-static data, and a fixed template string.\n",
    "\n",
    "In our case we would like to create two `PromptTemplate` objects which will be responsible for creating a random question and answering it.\n",
    "\n",
    "\n",
    "`PromptTemplate` จะช่วยในการสร้าง Prompt โดยใช้การผสมระหว่างข้อมูลที่ผู้ใช้ป้อนเข้าไป ข้อมูลเพิ่มเติมที่ไม่ใช่ค่าคงที่, และเทมเพลตที่คงที่.\n",
    "\n",
    "ในกรณีของเราเราต้องการสร้าง `PromptTemplate` สองเทมเพลตที่จะรับผิดชอบในการสร้างคำถามแบบสุ่มและการตอบคำถามนั้น.\n"
   ]
  },
  {
   "cell_type": "code",
   "execution_count": 16,
   "metadata": {
    "pycharm": {
     "name": "#%%\n"
    }
   },
   "outputs": [],
   "source": [
    "from langchain import PromptTemplate\n",
    "\n",
    "prompt_1 = PromptTemplate(\n",
    "    input_variables=[\"topic\"], \n",
    "    template=\"Generate a random question about {topic}: Question: \"\n",
    ")\n",
    "prompt_2 = PromptTemplate(\n",
    "    input_variables=[\"question\"],\n",
    "    template=\"Answer the following question: {question}\",\n",
    ")"
   ]
  },
  {
   "cell_type": "markdown",
   "metadata": {
    "pycharm": {
     "name": "#%% md\n"
    }
   },
   "source": [
    "We would like to add functionality around language models using `LLMChain` chain.\n",
    "\n",
    "`prompt_to_flan_ul2` chain formats the prompt template whose task is to generate random question, passes the formatted string to LLM and returns the LLM output.\n",
    "\n",
    "\n",
    "เราต้องการเพิ่มความสามารถเกี่ยวกับโมเดลโดยใช้ `LLMChain`.\n",
    "\n",
    " `prompt_to_flan_ul2` chain จะจัดรูปแบบข้อความ เทมเพลต ที่มีงานเป็นการสร้างคำถามแบบสุ่ม โดยรับ พรอมพ์ ที่จัดรูปแบบแล้วส่งไปที่ LLM และคืนผลลัพธ์จาก LLM ออกมา."
   ]
  },
  {
   "cell_type": "markdown",
   "metadata": {},
   "source": [
    "**Hint:** To use Chain interface from LangChain with watsonx.ai models you must call `model.to_langchain()` method. \n",
    "\n",
    "It returns `WatsonxLLM` wrapper compatible with LangChain CustomLLM specification.\n",
    "\n",
    "\n",
    "**คำแนะนำ:** เพื่อใช้งานอินเทอร์เฟซ Chain จาก LangChain กับ Watsonx.ai คุณต้องเรียกใช้ `model.to_langchain()` ด้วย\n",
    "\n",
    "เพื่อที่จะได้ `WatsonxLLM` wrapper ที่สามารถใช้งานกับ LangChain CustomLLM ได้\n"
   ]
  },
  {
   "cell_type": "code",
   "execution_count": 17,
   "metadata": {
    "pycharm": {
     "name": "#%%\n"
    }
   },
   "outputs": [],
   "source": [
    "from langchain.chains import LLMChain\n",
    "\n",
    "prompt_to_flan_ul2 = LLMChain(llm=flan_ul2_model.to_langchain(), prompt=prompt_1)"
   ]
  },
  {
   "cell_type": "markdown",
   "metadata": {
    "pycharm": {
     "name": "#%% md\n"
    }
   },
   "source": [
    "`flan_to_t5` chain formats the prompt template whose task is to answer the question we got from `prompt_to_flan_ul2` chain, passes the formatted string to LLM and returns the LLM output.\n",
    "\n",
    "\n",
    "`flan_to_t5` จัดรูปแบบเทมเพลตของพรอมป์ท์ที่มีหน้าที่ในการตอบคำถามที่ได้รับจาก `prompt_to_flan_ul2` จากนั้นส่งสตริงที่ถูกรูปแบบไปที่ LLM และคืนผลลัพธ์จาก LLM กลับมา."
   ]
  },
  {
   "cell_type": "code",
   "execution_count": 18,
   "metadata": {
    "pycharm": {
     "name": "#%%\n"
    }
   },
   "outputs": [],
   "source": [
    "flan_to_t5 = LLMChain(llm=flan_t5_model.to_langchain(), prompt=prompt_2)"
   ]
  },
  {
   "cell_type": "markdown",
   "metadata": {
    "pycharm": {
     "name": "#%% md\n"
    }
   },
   "source": [
    "This is the overall chain where we run `prompt_to_flan_ul2` and `flan_to_t5` chains in sequence.\n",
    "\n",
    "นี่คือโครงสร้างทั้งหมดที่เรารัน `prompt_to_flan_ul2` และ `flan_to_t5` ตามลำดับ."
   ]
  },
  {
   "cell_type": "code",
   "execution_count": 19,
   "metadata": {
    "pycharm": {
     "name": "#%%\n"
    }
   },
   "outputs": [],
   "source": [
    "from langchain.chains import SimpleSequentialChain\n",
    "\n",
    "qa = SimpleSequentialChain(chains=[prompt_to_flan_ul2, flan_to_t5], verbose=True)"
   ]
  },
  {
   "cell_type": "markdown",
   "metadata": {
    "pycharm": {
     "name": "#%% md\n"
    }
   },
   "source": [
    "Generate random question and answer to topic."
   ]
  },
  {
   "cell_type": "code",
   "execution_count": 20,
   "metadata": {
    "pycharm": {
     "name": "#%%\n"
    }
   },
   "outputs": [
    {
     "name": "stdout",
     "output_type": "stream",
     "text": [
      "\n",
      "\n",
      "\u001b[1m> Entering new SimpleSequentialChain chain...\u001b[0m\n",
      "\u001b[36;1m\u001b[1;3mWhat is the name of the person who created the ?\u001b[0m\n",
      "\u001b[33;1m\u001b[1;3mjohn mccain\u001b[0m\n",
      "\n",
      "\u001b[1m> Finished chain.\u001b[0m\n"
     ]
    },
    {
     "data": {
      "text/plain": [
       "'john mccain'"
      ]
     },
     "execution_count": 20,
     "metadata": {},
     "output_type": "execute_result"
    }
   ],
   "source": [
    "topic = 'ชีวิต'\n",
    "qa.run(topic)"
   ]
  },
  {
   "cell_type": "markdown",
   "metadata": {},
   "source": [
    "# Thai"
   ]
  },
  {
   "cell_type": "markdown",
   "metadata": {},
   "source": [
    "## Basic Chain of Thought as a Translator\n",
    "\n",
    "เราสามารถ สร้างขั้นตอนการคิดสำหรับบอทได้ โดยเริ่มจากตีกรอบเฉพาะในหัวข้อที่เราสนใจ โดยการทำ chain of thought\n",
    "ในกรณีนี้ เราจะใช้ ประโยค พร้อมคำแปล เกี่ยวกับการอาหารเป็นตัวอย่าง"
   ]
  },
  {
   "cell_type": "markdown",
   "metadata": {},
   "source": [
    "จากตัวอย่างข้างล่าง จะสมามารถเห็นว่า การที่เราใช้ เทคนิค `chain of thought` สามาถทำให้โมเดลเรียนรู้ที่จะแปลความหมายในบริบทที่เกี่ยวข้องกับตัวอย่าง (ในที่นี้คืออาหาร) ได้"
   ]
  },
  {
   "cell_type": "code",
   "execution_count": 21,
   "metadata": {},
   "outputs": [],
   "source": [
    "question_template = '''\n",
    "<s>[INST] <<SYS>>\n",
    "INSTRUCTION:\n",
    "คุณเป็นผู้สนใจความรู้ด้านอาหารฮาลาล ถามคำถามเป็นภาษาไทยในรูปแบบสั้น ๆ\n",
    "You are person who interesting in Halal food knowledge. Ask the question in short and brief Thai language.\n",
    "Produce the question using the steps as below.\n",
    "Step 1: Generate the less than 10 words ENGLISH short question with simple grammar.\n",
    "Step 2: Translate the ENGLISH short question into Thai language, use simple words.\n",
    "AVOID the new line as much as possible. End the sentence after Step 2 is done.\n",
    "Start your response with 'English QUESTION:'\n",
    "<</SYS>>\n",
    "INPUT:\n",
    "TOPIC: {topic}\n",
    "Step1: Generate English QUESTION:\n",
    "Step2: Translate to Thai QUESTION:\n",
    "[/INST]\n",
    "'''\n",
    "\n",
    "\n",
    "answer_template = '''\n",
    "<s>[INST] <<SYS>>\n",
    "INSTRUCTION:\n",
    "คุณเป็นผู้เชี่ยวชาญด้านอาหารฮาลาล ตอบคำถามเป็นภาษาไทยในรูปแบบสั้น ๆ\n",
    "You are expert in Halal food. Answer the question in short and brief Thai language.\n",
    "Produce the answer using the steps as below.\n",
    "Step 1: Generate the less than 5 words ENGLISH short answer with simple grammar.\n",
    "Step 2: Translate the short ENGLISH answer into Thai language. You can mix English with Thai language if the words are technique or specific word.\n",
    "AVOID the new line as much as possible. End the sentence after Step 2 is done.\n",
    "Start your response with 'English ANSWER:'\n",
    "<</SYS>>\n",
    "{question}\n",
    "\n",
    "Step 1: Generate English ANSWER:\n",
    "Step 2: Translate to Thai ANSWER:\n",
    "[/INST]\n",
    "'''"
   ]
  },
  {
   "cell_type": "code",
   "execution_count": 22,
   "metadata": {},
   "outputs": [],
   "source": [
    "prompt_1 = PromptTemplate(\n",
    "    input_variables=[\"topic\"], \n",
    "    template=question_template\n",
    ")\n",
    "\n",
    "prompt_2 = PromptTemplate(\n",
    "    input_variables=[\"question\"],\n",
    "    template=answer_template,\n",
    ")\n"
   ]
  },
  {
   "cell_type": "code",
   "execution_count": 23,
   "metadata": {},
   "outputs": [],
   "source": [
    "LLAMA_parameters_q = {\n",
    "    GenParams.DECODING_METHOD: DecodingMethods.GREEDY,\n",
    "    GenParams.MAX_NEW_TOKENS: 80,\n",
    "    GenParams.MIN_NEW_TOKENS: 1\n",
    "}\n",
    "\n",
    "LLAMA_parameters_a = {\n",
    "    GenParams.DECODING_METHOD: DecodingMethods.GREEDY,\n",
    "    GenParams.MAX_NEW_TOKENS: 70,\n",
    "    GenParams.MIN_NEW_TOKENS: 1\n",
    "}\n",
    "llama2_chat_q = Model(\n",
    "    model_id=model_id_3, \n",
    "    params=LLAMA_parameters_q, \n",
    "    credentials=credentials,\n",
    "    project_id=project_id)\n",
    "\n",
    "llama2_chat_a = Model(\n",
    "    model_id=model_id_3, \n",
    "    params=LLAMA_parameters_a, \n",
    "    credentials=credentials,\n",
    "    project_id=project_id)"
   ]
  },
  {
   "cell_type": "code",
   "execution_count": 24,
   "metadata": {},
   "outputs": [],
   "source": [
    "prompt_to_llama2_chat_q = LLMChain(llm=llama2_chat_q.to_langchain(), prompt=prompt_1)"
   ]
  },
  {
   "cell_type": "code",
   "execution_count": 25,
   "metadata": {},
   "outputs": [],
   "source": [
    "llama2_chat_q_to_llama2_chat_a = LLMChain(llm=llama2_chat_a.to_langchain(), prompt=prompt_2)"
   ]
  },
  {
   "cell_type": "code",
   "execution_count": 26,
   "metadata": {},
   "outputs": [],
   "source": [
    "qa = SimpleSequentialChain(chains=[prompt_to_llama2_chat_q, llama2_chat_q_to_llama2_chat_a], verbose=True)"
   ]
  },
  {
   "cell_type": "code",
   "execution_count": 31,
   "metadata": {},
   "outputs": [
    {
     "name": "stdout",
     "output_type": "stream",
     "text": [
      "\n",
      "\n",
      "\u001b[1m> Entering new SimpleSequentialChain chain...\u001b[0m\n",
      "\u001b[36;1m\u001b[1;3mEnglish QUESTION: What is modern Halal food?\n",
      "\n",
      "Thai QUESTION: อาหารฮาลาลแม้ linear ในช่วงปัจจุบันเป็นอะไร?\u001b[0m\n",
      "\u001b[33;1m\u001b[1;3mEnglish ANSWER: Modern Halal food is diverse and innovative.\n",
      "\n",
      "Thai ANSWER: อาหารฮาลาลแม้ linear ในช่วงปัจจุบันเป็นอะไร? อ\u001b[0m\n",
      "\n",
      "\u001b[1m> Finished chain.\u001b[0m\n"
     ]
    },
    {
     "data": {
      "text/plain": [
       "'English ANSWER: Modern Halal food is diverse and innovative.\\n\\nThai ANSWER: อาหารฮาลาลแม้ linear ในช่วงปัจจุบันเป็นอะไร? อ'"
      ]
     },
     "execution_count": 31,
     "metadata": {},
     "output_type": "execute_result"
    }
   ],
   "source": [
    "# qa.run('ทอด')\n",
    "qa.run('modern')"
   ]
  },
  {
   "cell_type": "code",
   "execution_count": null,
   "metadata": {},
   "outputs": [],
   "source": []
  },
  {
   "cell_type": "markdown",
   "metadata": {
    "pycharm": {
     "name": "#%% md\n"
    }
   },
   "source": [
    "<a id=\"summary\"></a>\n",
    "## Summary and next steps\n",
    "\n",
    " You successfully completed this notebook!.\n",
    " \n",
    " You learned how to use Simple Squential Chain using custom llm WastonxLLM.\n",
    " \n",
    "Check out our _[Online Documentation](https://ibm.github.io/watson-machine-learning-sdk/samples.html)_ for more samples, tutorials, documentation, how-tos, and blog posts. "
   ]
  },
  {
   "cell_type": "markdown",
   "metadata": {
    "pycharm": {
     "name": "#%% md\n"
    }
   },
   "source": [
    "### Authors: \n",
    " **Mateusz Szewczyk**, Software Engineer at Watson Machine Learning."
   ]
  },
  {
   "cell_type": "markdown",
   "metadata": {
    "pycharm": {
     "name": "#%% md\n"
    }
   },
   "source": [
    "Copyright © 2023 IBM. This notebook and its source code are released under the terms of the MIT License."
   ]
  }
 ],
 "metadata": {
  "kernelspec": {
   "display_name": "Python 3 (ipykernel)",
   "language": "python",
   "name": "python3"
  },
  "language_info": {
   "codemirror_mode": {
    "name": "ipython",
    "version": 3
   },
   "file_extension": ".py",
   "mimetype": "text/x-python",
   "name": "python",
   "nbconvert_exporter": "python",
   "pygments_lexer": "ipython3",
   "version": "3.11.5"
  }
 },
 "nbformat": 4,
 "nbformat_minor": 4
}
